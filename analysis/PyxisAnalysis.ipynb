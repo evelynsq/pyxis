{
 "cells": [
  {
   "cell_type": "markdown",
   "id": "7c2dfea3",
   "metadata": {},
   "source": [
    "# Analyzing Pyxis Results"
   ]
  },
  {
   "cell_type": "markdown",
   "id": "dfa137f8",
   "metadata": {},
   "source": [
    "The following notebook performs analyses of `pyxis` results to HOMER's `findMotifsGenome.pl`, such as by generating visualizations which compare results, runtimes, and sequence logos.\n",
    "\n",
    "Note: As mentioned in `BenchmarkPyxis.ipynb`, the reference genome `hg19.fa` required for running commands with the ISL1 dataset is not included in the `pyxis` repository due to its large size. \n",
    "\n",
    "If you are interested in running these  commands with the ISL1 dataset (as well as several of the commands in `BenchmarkPyxis.ipynb`), please install `hg19.fa.gz` [here](https://hgdownload.soe.ucsc.edu/goldenPath/hg19/bigZips/) and move it into the `benchmark` directory of `pyxis`. Be sure to also decompress the file before running `pyxis` on it."
   ]
  },
  {
   "cell_type": "markdown",
   "id": "b4b939f3",
   "metadata": {},
   "source": [
    "## I. Direct Results of *pyxis* vs. HOMER's *findMotifsGenome.pl*"
   ]
  },
  {
   "cell_type": "code",
   "execution_count": 1,
   "id": "2d69a0fa",
   "metadata": {},
   "outputs": [
    {
     "name": "stdout",
     "output_type": "stream",
     "text": [
      "/home/esquan/final_project/pyxis\n"
     ]
    }
   ],
   "source": [
    "%cd .."
   ]
  },
  {
   "cell_type": "code",
   "execution_count": 13,
   "id": "e71d22f9",
   "metadata": {},
   "outputs": [],
   "source": [
    "import matplotlib.pyplot as plt\n",
    "import numpy as np\n",
    "import os\n",
    "import pandas as pd\n",
    "import pyfaidx\n",
    "import pyxis.myutils\n",
    "import random\n",
    "import scipy.stats\n",
    "import sys"
   ]
  },
  {
   "cell_type": "code",
   "execution_count": 3,
   "id": "cc39eaa7",
   "metadata": {},
   "outputs": [],
   "source": [
    "!python setup.py install --user > path.txt 2> /dev/null\n",
    "# determining where pyxis script installed to, and saving that path to export later\n",
    "with open('path.txt', 'r') as file:\n",
    "    for line in file:\n",
    "        if 'Installing pyxis script to' in line:\n",
    "            path = line.split()[-1]\n",
    "            f = open(\"scriptpath.txt\", \"w\")\n",
    "            f.write(path)\n",
    "            f.close()\n",
    "            break"
   ]
  },
  {
   "cell_type": "markdown",
   "id": "0000dd08",
   "metadata": {},
   "source": [
    "### A. Example Test Data Results"
   ]
  },
  {
   "cell_type": "code",
   "execution_count": 48,
   "id": "5573d6eb",
   "metadata": {},
   "outputs": [
    {
     "name": "stderr",
     "output_type": "stream",
     "text": [
      "\n",
      "\tPosition file = example-files/peaks.bed\n",
      "\tGenome = example-files/ref.fa\n",
      "\tOutput Directory = homer-results/example-data\n",
      "\tUsing actual sizes of regions (-size given)\n",
      "\tFragment size set to given\n",
      "\tMotif length set at 11,\n",
      "\tUsing Custom Genome\n",
      "\tPeak/BED file conversion summary:\n",
      "\t\tBED/Header formatted lines: 10\n",
      "\t\tpeakfile formatted lines: 0\n",
      "\n",
      "\tPeak File Statistics:\n",
      "\t\tTotal Peaks: 10\n",
      "\t\tRedundant Peak IDs: 0\n",
      "\t\tPeaks lacking information: 0 (need at least 5 columns per peak)\n",
      "\t\tPeaks with misformatted coordinates: 0 (should be integer)\n",
      "\t\tPeaks with misformatted strand: 0 (should be either +/- or 0/1)\n",
      "\n",
      "\tPeak file looks good!\n",
      "\n",
      "\tBackground fragment size set to 21 (avg size of targets)\n",
      "\tBackground files for 21 bp fragments found.\n",
      "!!!! Might have something wrong with preparsed files\n",
      "!!!! Rerun and add \"-preparse\" to the command line to force recreation of the files\n",
      "\tCustom genome sequence file: example-files/ref.fa\n",
      "\n",
      "\tExtracting sequences from file: example-files/ref.fa\n",
      "\tLooking for peak sequences in a single file (example-files/ref.fa)\n",
      "\tExtracting 2 sequences from chr1\n",
      "\tExtracting 1 sequences from chr2\n",
      "\tExtracting 2 sequences from chr3\n",
      "\tExtracting 1 sequences from chr4\n",
      "\tExtracting 3 sequences from chr5\n",
      "\tExtracting 1 sequences from chr6\n",
      "\n",
      "\tNot removing redundant sequences\n",
      "\n",
      "\n",
      "\tSequences processed:\n",
      "\t\tAuto detected maximum sequence length of 20 bp\n",
      "\t\t10 total\n",
      "\n",
      "\tFrequency Bins: 0.2 0.25 0.3 0.35 0.4 0.45 0.5 0.6 0.7 0.8\n",
      "\tFreq\tBin\tCount\n",
      "\t0.3\t2\t2\n",
      "\t0.4\t4\t2\n",
      "\t0.45\t5\t2\n",
      "\t0.6\t7\t3\n",
      "\t0.7\t8\t1\n",
      "\n",
      "\tTotal sequences set to 50000\n",
      "\n",
      "\tChoosing background that matches in CpG/GC content...\n",
      "\tBin\t# Targets\t# Background\tBackground Weight\n",
      "\t2\t2\t26\t3.738\n",
      "\t4\t2\t91\t1.068\n",
      "\t5\t2\t163\t0.596\n",
      "\t7\t3\t142\t1.027\n",
      "\t8\t1\t64\t0.759\n",
      "\tAssembling sequence file...\n",
      "\tNormalizing lower order oligos using homer2\n",
      "\n",
      "\tReading input files...\n",
      "\t496 total sequences read\n",
      "\tAutonormalization: 1-mers (4 total)\n",
      "\t\tA\t26.77%\t27.67%\t0.968\n",
      "\t\tC\t23.23%\t22.33%\t1.040\n",
      "\t\tG\t23.23%\t22.33%\t1.040\n",
      "\t\tT\t26.77%\t27.67%\t0.968\n",
      "\tAutonormalization: 2-mers (16 total)\n",
      "\t\tAA\t7.37%\t7.87%\t0.936\n",
      "\t\tCA\t7.63%\t6.31%\t1.210\n",
      "\t\tGA\t5.61%\t6.11%\t0.917\n",
      "\t\tTA\t5.74%\t7.27%\t0.790\n",
      "\t\tAC\t7.38%\t6.40%\t1.153\n",
      "\t\tCC\t4.15%\t4.89%\t0.850\n",
      "\t\tGC\t6.08%\t5.11%\t1.190\n",
      "\t\tTC\t5.61%\t6.11%\t0.917\n",
      "\t\tAG\t6.59%\t5.74%\t1.148\n",
      "\t\tCG\t5.31%\t5.50%\t0.965\n",
      "\t\tGG\t4.15%\t4.89%\t0.850\n",
      "\t\tTG\t7.63%\t6.31%\t1.210\n",
      "\t\tAT\t5.43%\t7.50%\t0.724\n",
      "\t\tCT\t6.59%\t5.74%\t1.148\n",
      "\t\tGT\t7.38%\t6.40%\t1.153\n",
      "\t\tTT\t7.37%\t7.87%\t0.936\n",
      "\tAutonormalization: 3-mers (64 total)\n",
      "\tNormalization weights can be found in file: homer-results/example-data/seq.autonorm.tsv\n",
      "\tConverging on autonormalization solution:\n",
      "\t...............................................................................\n",
      "\tFinal normalization:\tAutonormalization: 1-mers (4 total)\n",
      "\t\tA\t26.77%\t26.87%\t0.997\n",
      "\t\tC\t23.23%\t23.13%\t1.004\n",
      "\t\tG\t23.23%\t23.13%\t1.004\n",
      "\t\tT\t26.77%\t26.87%\t0.997\n",
      "\tAutonormalization: 2-mers (16 total)\n",
      "\t\tAA\t7.37%\t7.36%\t1.000\n",
      "\t\tCA\t7.63%\t7.44%\t1.027\n",
      "\t\tGA\t5.61%\t5.71%\t0.982\n",
      "\t\tTA\t5.74%\t5.95%\t0.964\n",
      "\t\tAC\t7.38%\t7.15%\t1.031\n",
      "\t\tCC\t4.15%\t4.20%\t0.988\n",
      "\t\tGC\t6.08%\t6.24%\t0.974\n",
      "\t\tTC\t5.61%\t5.71%\t0.982\n",
      "\t\tAG\t6.59%\t6.51%\t1.012\n",
      "\t\tCG\t5.31%\t5.27%\t1.006\n",
      "\t\tGG\t4.15%\t4.20%\t0.988\n",
      "\t\tTG\t7.63%\t7.44%\t1.027\n",
      "\t\tAT\t5.43%\t5.79%\t0.938\n",
      "\t\tCT\t6.59%\t6.51%\t1.012\n",
      "\t\tGT\t7.38%\t7.15%\t1.031\n",
      "\t\tTT\t7.37%\t7.36%\t1.000\n",
      "\tAutonormalization: 3-mers (64 total)\n",
      "\tFinished preparing sequence/group files\n",
      "\n",
      "\t----------------------------------------------------------\n",
      "\tKnown motif enrichment\n",
      "\n",
      "\tReading input files...\n",
      "\t496 total sequences read\n",
      "\t1006 motifs loaded\n",
      "\tCache length = 11180\n",
      "\tUsing binomial scoring\n",
      "\tChecking enrichment of 1006 motif(s)\n",
      "\t|0%                                    50%                                  100%|\n",
      "\t=================================================================================\n",
      "\tPreparing HTML output with sequence logos...\n",
      "\t----------------------------------------------------------\n",
      "\tDe novo motif finding (HOMER)\n",
      "\n",
      "\tScanning input files...\n",
      "\tParsing sequences...\n",
      "\t|0%                                   50%                                  100%|\n",
      "\t==================================================================================\n",
      "\tTotal number of Oligos: 638\n",
      "\tAutoadjustment for sequence coverage in background: 0.95x\n",
      "\n",
      "\tOligos: 638 of 5455 max\n",
      "\tTree  : 1728 of 27275 max\n",
      "\tOptimizing memory usage...\n",
      "\tCache length = 11180\n",
      "\tUsing binomial scoring\n",
      "\n",
      "\tGlobal Optimization Phase: Looking for enriched oligos with up to 2 mismatches...\n",
      "\n",
      "\tScreening oligos 638 (allowing 0 mismatches):\n",
      "\t|0%                                   50%                                  100%|\n",
      "\t===========================================================================================\n",
      "\t\t83.39% skipped, 16.61% checked (106 of 638), of those checked:\n",
      "\t\t83.39% not in target, 0.00% increased p-value, 0.00% high p-value\n",
      "\n",
      "\tScreening oligos 638 (allowing 1 mismatches):\n",
      "\t|0%                                   50%                                  100%|\n",
      "\t=========================================================================================================\n",
      "\t\t83.39% skipped, 16.61% checked (106 of 638), of those checked:\n",
      "\t\t0.00% not in target, 16.61% increased p-value, 11.13% high p-value\n",
      "\n",
      "\tScreening oligos 638 (allowing 2 mismatches):\n",
      "\t|0%                                   50%                                  100%|\n",
      "\t=========================================================================================================\n",
      "\t\t100.00% skipped, 0.00% checked (0 of 638), of those checked:\n",
      "\t\t0.00% not in target, 0.00% increased p-value, 0.00% high p-value\n",
      "\tReading input files...\n",
      "\t496 total sequences read\n",
      "\tCache length = 11180\n",
      "\tUsing binomial scoring\n",
      "\n",
      "\tLocal Optimization Phase:\n",
      "\t1 of 25 Initial Sequence: AACGTTGATGC... (-3.061)\n",
      "\t\tRound 1: -3.06 AACGTTGATGC T:1.0(10.00%),B:3.7(0.71%),P:1e-1\n",
      "\t\tRound 2: -3.06 AACGTTGATGC T:1.0(10.00%),B:3.7(0.71%),P:1e-1\n",
      "\t\t=Final=: -2.71 AACGTTGATGC T:1.0(10.00%),B:3.7(0.85%),P:1e-1\n",
      "\t\tPerforming exhaustive masking of motif...\n",
      "\t\tReprioritizing potential motifs...\n",
      "\t2 of 25 Initial Sequence: GCCATTCTCTC... (-3.061)\n",
      "\t\tRound 1: -3.06 GCCATTCTCTC T:1.0(10.00%),B:3.9(0.71%),P:1e-1\n",
      "\t\tRound 2: -3.06 GCCATTCTCTC T:1.0(10.00%),B:3.9(0.71%),P:1e-1\n",
      "\t\t=Final=: -2.71 GCCATTCTCTC T:1.0(10.00%),B:3.9(0.89%),P:1e-1\n",
      "\t\tPerforming exhaustive masking of motif...\n",
      "\t\tReprioritizing potential motifs...\n",
      "\t3 of 25 Initial Sequence: TTTTATCTAAA... (-2.389)\n",
      "\t\tRound 1: -2.39 TTTTATCTAAA T:1.0(10.00%),B:5.0(1.19%),P:1e-1\n",
      "\t\tRound 2: -2.39 TTTTATCTAAA T:1.0(10.00%),B:5.0(1.19%),P:1e-1\n",
      "\t\t=Final=: -2.22 TTTTATCTAAA T:1.0(10.00%),B:5.0(1.15%),P:1e0\n",
      "\t\tPerforming exhaustive masking of motif...\n",
      "\t\tReprioritizing potential motifs...\n",
      "\t4 of 25 Initial Sequence: CGATCAATACT... (-2.177)\n",
      "\t\tRound 1: -2.18 CGATCAATACT T:1.0(10.00%),B:6.5(1.42%),P:1e0\n",
      "\t\tRound 2: -2.18 CGATCAATACT T:1.0(10.00%),B:6.5(1.42%),P:1e0\n",
      "\t\t=Final=: -2.05 CGATCAATACT T:1.0(10.00%),B:6.5(1.48%),P:1e0\n",
      "\t\tPerforming exhaustive masking of motif...\n",
      "\t\tReprioritizing potential motifs...\n",
      "\t5 of 25 Initial Sequence: ATTATGCAGGA... (-1.452)\n",
      "\t\tRound 1: -1.45 ATTATGCAGGA T:1.0(10.00%),B:12.6(2.83%),P:1e0\n",
      "\t\tRound 2: -1.45 ATTATGCAGGA T:1.0(10.00%),B:12.6(2.83%),P:1e0\n",
      "\t\t=Final=: -1.42 ATTATGCAGGA T:1.0(10.00%),B:12.6(2.87%),P:1e0\n",
      "\t\tPerforming exhaustive masking of motif...\n",
      "\t\tReprioritizing potential motifs...\n",
      "\tRemaining seeds don't look promising (After initial 5 motifs, logp -1.452 > -7.000)\n",
      "\n",
      "\tFinalizing Enrichment Statistics (new in v3.4)\n",
      "\tReading input files...\n",
      "\t496 total sequences read\n",
      "\tCache length = 11180\n",
      "\tUsing binomial scoring\n",
      "\tChecking enrichment of 5 motif(s)\n",
      "\t|0%                                    50%                                  100%|\n",
      "\t=================================================================================\n",
      "\tOutput in file: homer-results/example-data/homerMotifs.motifs11\n",
      "\n",
      "\t(Motifs in homer2 format)\n",
      "\tDetermining similar motifs... 20 reduced to 13 motifs\n",
      "\tOutputing HTML and sequence logos for motif comparison...\n",
      "\tChecking de novo motifs against known motifs...\n",
      "\tFormatting HTML page...\n",
      "\t\t1 of 13 (1e-1) similar to RBP1-LIKE(RRM)/Drosophila_melanogaster-RNCMPT00127-PBM/HughesRNA(0.738)\n",
      "\t\t2 of 13 (1e-1) similar to pho/dmmpmm(Bergman)/fly(0.739)\n",
      "\t\t3 of 13 (1e0) similar to TRPS1(Zf)/MCF7-TRPS1-ChIP-Seq(GSE107013)/Homer(0.757)\n",
      "\t\t4 of 13 (1e0) similar to HNF6(Homeobox)/Liver-Hnf6-ChIP-Seq(ERP000394)/Homer(0.775)\n",
      "\t\t5 of 13 (1e0) similar to nub/dmmpmm(Pollard)/fly(0.739)\n",
      "\t\t6 of 13 (1e0) similar to WRKY12/MA1075.1/Jaspar(0.710)\n",
      "\t\t7 of 13 (1e0) similar to Six4/MA0204.1/Jaspar(0.715)\n",
      "\t\t8 of 13 (1e0) similar to SRSF9(RRM)/Homo_sapiens-RNCMPT00074-PBM/HughesRNA(0.791)\n",
      "\t\t9 of 13 (1e0) similar to MET31/Literature(Harbison)/Yeast(0.703)\n",
      "\t\t10 of 13 (1e0) similar to Hmx1/MA0896.1/Jaspar(0.704)\n",
      "\t\t11 of 13 (1e0) similar to BAS1/MA0278.1/Jaspar(0.640)\n",
      "\t\t12 of 13 (1e0) similar to gt/dmmpmm(SeSiMCMC)/fly(0.845)\n",
      "\t\t13 of 13 (1e0) similar to PH0044.1_Homez/Jaspar(0.806)\n",
      "\tJob finished - if results look good, please send beer to ..\n",
      "\n",
      "\tCleaning up tmp files...\n",
      "\n"
     ]
    }
   ],
   "source": [
    "%%bash\n",
    "# HOMER - Check homer-results/example-data/homerResults.html for results\n",
    "findMotifsGenome.pl example-files/peaks.bed example-files/ref.fa homer-results/example-data -size given -len 11"
   ]
  },
  {
   "cell_type": "code",
   "execution_count": 7,
   "id": "2b0f86c8",
   "metadata": {},
   "outputs": [
    {
     "name": "stdout",
     "output_type": "stream",
     "text": [
      "Background not specified. Generating background sequences from reference genome...\n",
      "Calculating thresholds for each PWM...\n",
      "[1/5] .... \n",
      "[2/5] .... \n",
      "[3/5] .... \n",
      "[4/5] .... \n",
      "[5/5] .... Done.\n",
      "\n",
      "Performing motif enrichment...\n",
      "[1/5] .... \n",
      "[2/5] .... \n",
      "[3/5] .... \n",
      "[4/5] .... \n",
      "[5/5] .... Done.\n",
      "\n",
      "Creating output file 'enrichment_results.tsv'...\n",
      "....\n",
      "....\n",
      "....\n",
      "....\n",
      ".... Done.\n",
      "\n",
      "\n",
      "Pyxis has run successfully, please check 'pyxis_enrichments.tsv' for motif enrichment info!\n",
      "If '-s' or '--seqlogo' was specified, the motif sequence logos should be in your directory.\n",
      "\n",
      "Pyxis Enrichment Results:\n",
      "motif_name\tpval\tlog_pval\tnum_peak_motif\tpct_peak_motif\tnum_bg_motif\tpct_bg_motif\tenriched_status\n",
      "BACH2_HUMAN.H11MO.0.A\t1.0\t0.0\t3\t0.3\t2\t0.2\tNon-sig\n",
      "ALX3_HUMAN.H11MO.0.D\t1.0\t0.0\t0\t0.0\t0\t0.0\tNon-sig\n",
      "ELK1_HUMAN.H11MO.0.B\t1.0\t0.0\t0\t0.0\t0\t0.0\tNon-sig\n",
      "KAISO_HUMAN.H11MO.1.A\t1.0\t0.0\t4\t0.4\t3\t0.3\tNon-sig\n",
      "MLX_HUMAN.H11MO.0.D\t1.0\t0.0\t1\t0.1\t0\t0.0\tNon-sig\n"
     ]
    }
   ],
   "source": [
    "%%bash\n",
    "DIR=`cat scriptpath.txt`\n",
    "export PATH=$PATH:$DIR\n",
    "\n",
    "# pyxis - Check pyxis_enrichments.tsv for results\n",
    "pyxis example-files/peaks.bed example-files/ref.fa example-files/test.pwms\n",
    "printf 'Pyxis Enrichment Results:\\n'\n",
    "cat pyxis_enrichments.tsv"
   ]
  },
  {
   "cell_type": "code",
   "execution_count": 5,
   "id": "5fac77de",
   "metadata": {},
   "outputs": [
    {
     "name": "stdout",
     "output_type": "stream",
     "text": [
      "Top sequence logos outputted by HOMER for example test data: \n",
      "\n",
      "RBP1-LIKE(RRM)\n"
     ]
    },
    {
     "data": {
      "image/svg+xml": [
       "<svg width=\"280\" height=\"50\">\n",
       " <g font-family=\"Arial\" font-weight=\"bold\" font-size=\"66.5\">\n",
       "  <text fill=\"#0000EE\" x=\"0\" y=\"0\" transform=\"matrix(0.59,0,0,0.100,0,49)\">C</text>\n",
       "  <text fill=\"#F9A500\" x=\"0\" y=\"0\" transform=\"matrix(0.55,0,0,0.100,0,44)\">G</text>\n",
       "  <text fill=\"#DD0000\" x=\"0\" y=\"0\" transform=\"matrix(0.65,0,0,0.100,1,39)\">T</text>\n",
       "  <text fill=\"#00BB00\" x=\"0\" y=\"0\" transform=\"matrix(0.53,0,0,0.700,2,34)\">A</text>\n",
       "  \n",
       "  <text fill=\"#0000EE\" x=\"0\" y=\"0\" transform=\"matrix(0.59,0,0,0.100,25,49)\">C</text>\n",
       "  <text fill=\"#F9A500\" x=\"0\" y=\"0\" transform=\"matrix(0.55,0,0,0.100,25,44)\">G</text>\n",
       "  <text fill=\"#DD0000\" x=\"0\" y=\"0\" transform=\"matrix(0.65,0,0,0.100,26,39)\">T</text>\n",
       "  <text fill=\"#00BB00\" x=\"0\" y=\"0\" transform=\"matrix(0.53,0,0,0.700,27,34)\">A</text>\n",
       "  \n",
       "  <text fill=\"#00BB00\" x=\"0\" y=\"0\" transform=\"matrix(0.53,0,0,0.100,52,49)\">A</text>\n",
       "  <text fill=\"#F9A500\" x=\"0\" y=\"0\" transform=\"matrix(0.55,0,0,0.100,50,44)\">G</text>\n",
       "  <text fill=\"#DD0000\" x=\"0\" y=\"0\" transform=\"matrix(0.65,0,0,0.100,51,39)\">T</text>\n",
       "  <text fill=\"#0000EE\" x=\"0\" y=\"0\" transform=\"matrix(0.59,0,0,0.700,50,34)\">C</text>\n",
       "  \n",
       "  <text fill=\"#00BB00\" x=\"0\" y=\"0\" transform=\"matrix(0.53,0,0,0.100,77,49)\">A</text>\n",
       "  <text fill=\"#0000EE\" x=\"0\" y=\"0\" transform=\"matrix(0.59,0,0,0.100,75,44)\">C</text>\n",
       "  <text fill=\"#DD0000\" x=\"0\" y=\"0\" transform=\"matrix(0.65,0,0,0.100,76,39)\">T</text>\n",
       "  <text fill=\"#F9A500\" x=\"0\" y=\"0\" transform=\"matrix(0.55,0,0,0.700,75,34)\">G</text>\n",
       "  \n",
       "  <text fill=\"#00BB00\" x=\"0\" y=\"0\" transform=\"matrix(0.53,0,0,0.100,102,49)\">A</text>\n",
       "  <text fill=\"#0000EE\" x=\"0\" y=\"0\" transform=\"matrix(0.59,0,0,0.100,100,44)\">C</text>\n",
       "  <text fill=\"#F9A500\" x=\"0\" y=\"0\" transform=\"matrix(0.55,0,0,0.100,100,39)\">G</text>\n",
       "  <text fill=\"#DD0000\" x=\"0\" y=\"0\" transform=\"matrix(0.65,0,0,0.700,101,34)\">T</text>\n",
       "  \n",
       "  <text fill=\"#00BB00\" x=\"0\" y=\"0\" transform=\"matrix(0.53,0,0,0.100,127,49)\">A</text>\n",
       "  <text fill=\"#0000EE\" x=\"0\" y=\"0\" transform=\"matrix(0.59,0,0,0.100,125,44)\">C</text>\n",
       "  <text fill=\"#F9A500\" x=\"0\" y=\"0\" transform=\"matrix(0.55,0,0,0.100,125,39)\">G</text>\n",
       "  <text fill=\"#DD0000\" x=\"0\" y=\"0\" transform=\"matrix(0.65,0,0,0.700,126,34)\">T</text>\n",
       "  \n",
       "  <text fill=\"#00BB00\" x=\"0\" y=\"0\" transform=\"matrix(0.53,0,0,0.100,152,49)\">A</text>\n",
       "  <text fill=\"#0000EE\" x=\"0\" y=\"0\" transform=\"matrix(0.59,0,0,0.100,150,44)\">C</text>\n",
       "  <text fill=\"#DD0000\" x=\"0\" y=\"0\" transform=\"matrix(0.65,0,0,0.100,151,39)\">T</text>\n",
       "  <text fill=\"#F9A500\" x=\"0\" y=\"0\" transform=\"matrix(0.55,0,0,0.700,150,34)\">G</text>\n",
       "  \n",
       "  <text fill=\"#0000EE\" x=\"0\" y=\"0\" transform=\"matrix(0.59,0,0,0.100,175,49)\">C</text>\n",
       "  <text fill=\"#F9A500\" x=\"0\" y=\"0\" transform=\"matrix(0.55,0,0,0.100,175,44)\">G</text>\n",
       "  <text fill=\"#DD0000\" x=\"0\" y=\"0\" transform=\"matrix(0.65,0,0,0.100,176,39)\">T</text>\n",
       "  <text fill=\"#00BB00\" x=\"0\" y=\"0\" transform=\"matrix(0.53,0,0,0.700,177,34)\">A</text>\n",
       "  \n",
       "  <text fill=\"#00BB00\" x=\"0\" y=\"0\" transform=\"matrix(0.53,0,0,0.100,202,49)\">A</text>\n",
       "  <text fill=\"#0000EE\" x=\"0\" y=\"0\" transform=\"matrix(0.59,0,0,0.100,200,44)\">C</text>\n",
       "  <text fill=\"#F9A500\" x=\"0\" y=\"0\" transform=\"matrix(0.55,0,0,0.100,200,39)\">G</text>\n",
       "  <text fill=\"#DD0000\" x=\"0\" y=\"0\" transform=\"matrix(0.65,0,0,0.700,201,34)\">T</text>\n",
       "  \n",
       "  <text fill=\"#00BB00\" x=\"0\" y=\"0\" transform=\"matrix(0.53,0,0,0.100,227,49)\">A</text>\n",
       "  <text fill=\"#0000EE\" x=\"0\" y=\"0\" transform=\"matrix(0.59,0,0,0.100,225,44)\">C</text>\n",
       "  <text fill=\"#DD0000\" x=\"0\" y=\"0\" transform=\"matrix(0.65,0,0,0.100,226,39)\">T</text>\n",
       "  <text fill=\"#F9A500\" x=\"0\" y=\"0\" transform=\"matrix(0.55,0,0,0.700,225,34)\">G</text>\n",
       "  \n",
       "  <text fill=\"#00BB00\" x=\"0\" y=\"0\" transform=\"matrix(0.53,0,0,0.100,252,49)\">A</text>\n",
       "  <text fill=\"#F9A500\" x=\"0\" y=\"0\" transform=\"matrix(0.55,0,0,0.100,250,44)\">G</text>\n",
       "  <text fill=\"#DD0000\" x=\"0\" y=\"0\" transform=\"matrix(0.65,0,0,0.100,251,39)\">T</text>\n",
       "  <text fill=\"#0000EE\" x=\"0\" y=\"0\" transform=\"matrix(0.59,0,0,0.700,250,34)\">C</text>\n",
       "  \n",
       " </g>\n",
       "</svg>"
      ],
      "text/plain": [
       "<IPython.core.display.SVG object>"
      ]
     },
     "metadata": {},
     "output_type": "display_data"
    },
    {
     "name": "stdout",
     "output_type": "stream",
     "text": [
      "pho\n"
     ]
    },
    {
     "data": {
      "image/svg+xml": [
       "<svg width=\"280\" height=\"50\">\n",
       " <g font-family=\"Arial\" font-weight=\"bold\" font-size=\"66.5\">\n",
       "  <text fill=\"#00BB00\" x=\"0\" y=\"0\" transform=\"matrix(0.53,0,0,0.100,2,49)\">A</text>\n",
       "  <text fill=\"#0000EE\" x=\"0\" y=\"0\" transform=\"matrix(0.59,0,0,0.100,0,44)\">C</text>\n",
       "  <text fill=\"#DD0000\" x=\"0\" y=\"0\" transform=\"matrix(0.65,0,0,0.100,1,39)\">T</text>\n",
       "  <text fill=\"#F9A500\" x=\"0\" y=\"0\" transform=\"matrix(0.55,0,0,0.700,0,34)\">G</text>\n",
       "  \n",
       "  <text fill=\"#00BB00\" x=\"0\" y=\"0\" transform=\"matrix(0.53,0,0,0.100,27,49)\">A</text>\n",
       "  <text fill=\"#F9A500\" x=\"0\" y=\"0\" transform=\"matrix(0.55,0,0,0.100,25,44)\">G</text>\n",
       "  <text fill=\"#DD0000\" x=\"0\" y=\"0\" transform=\"matrix(0.65,0,0,0.100,26,39)\">T</text>\n",
       "  <text fill=\"#0000EE\" x=\"0\" y=\"0\" transform=\"matrix(0.59,0,0,0.700,25,34)\">C</text>\n",
       "  \n",
       "  <text fill=\"#00BB00\" x=\"0\" y=\"0\" transform=\"matrix(0.53,0,0,0.100,52,49)\">A</text>\n",
       "  <text fill=\"#F9A500\" x=\"0\" y=\"0\" transform=\"matrix(0.55,0,0,0.100,50,44)\">G</text>\n",
       "  <text fill=\"#DD0000\" x=\"0\" y=\"0\" transform=\"matrix(0.65,0,0,0.100,51,39)\">T</text>\n",
       "  <text fill=\"#0000EE\" x=\"0\" y=\"0\" transform=\"matrix(0.59,0,0,0.700,50,34)\">C</text>\n",
       "  \n",
       "  <text fill=\"#0000EE\" x=\"0\" y=\"0\" transform=\"matrix(0.59,0,0,0.100,75,49)\">C</text>\n",
       "  <text fill=\"#F9A500\" x=\"0\" y=\"0\" transform=\"matrix(0.55,0,0,0.100,75,44)\">G</text>\n",
       "  <text fill=\"#DD0000\" x=\"0\" y=\"0\" transform=\"matrix(0.65,0,0,0.100,76,39)\">T</text>\n",
       "  <text fill=\"#00BB00\" x=\"0\" y=\"0\" transform=\"matrix(0.53,0,0,0.700,77,34)\">A</text>\n",
       "  \n",
       "  <text fill=\"#00BB00\" x=\"0\" y=\"0\" transform=\"matrix(0.53,0,0,0.100,102,49)\">A</text>\n",
       "  <text fill=\"#0000EE\" x=\"0\" y=\"0\" transform=\"matrix(0.59,0,0,0.100,100,44)\">C</text>\n",
       "  <text fill=\"#F9A500\" x=\"0\" y=\"0\" transform=\"matrix(0.55,0,0,0.100,100,39)\">G</text>\n",
       "  <text fill=\"#DD0000\" x=\"0\" y=\"0\" transform=\"matrix(0.65,0,0,0.700,101,34)\">T</text>\n",
       "  \n",
       "  <text fill=\"#00BB00\" x=\"0\" y=\"0\" transform=\"matrix(0.53,0,0,0.100,127,49)\">A</text>\n",
       "  <text fill=\"#0000EE\" x=\"0\" y=\"0\" transform=\"matrix(0.59,0,0,0.100,125,44)\">C</text>\n",
       "  <text fill=\"#F9A500\" x=\"0\" y=\"0\" transform=\"matrix(0.55,0,0,0.100,125,39)\">G</text>\n",
       "  <text fill=\"#DD0000\" x=\"0\" y=\"0\" transform=\"matrix(0.65,0,0,0.700,126,34)\">T</text>\n",
       "  \n",
       "  <text fill=\"#00BB00\" x=\"0\" y=\"0\" transform=\"matrix(0.53,0,0,0.100,152,49)\">A</text>\n",
       "  <text fill=\"#F9A500\" x=\"0\" y=\"0\" transform=\"matrix(0.55,0,0,0.100,150,44)\">G</text>\n",
       "  <text fill=\"#DD0000\" x=\"0\" y=\"0\" transform=\"matrix(0.65,0,0,0.100,151,39)\">T</text>\n",
       "  <text fill=\"#0000EE\" x=\"0\" y=\"0\" transform=\"matrix(0.59,0,0,0.700,150,34)\">C</text>\n",
       "  \n",
       "  <text fill=\"#00BB00\" x=\"0\" y=\"0\" transform=\"matrix(0.53,0,0,0.100,177,49)\">A</text>\n",
       "  <text fill=\"#0000EE\" x=\"0\" y=\"0\" transform=\"matrix(0.59,0,0,0.100,175,44)\">C</text>\n",
       "  <text fill=\"#F9A500\" x=\"0\" y=\"0\" transform=\"matrix(0.55,0,0,0.100,175,39)\">G</text>\n",
       "  <text fill=\"#DD0000\" x=\"0\" y=\"0\" transform=\"matrix(0.65,0,0,0.700,176,34)\">T</text>\n",
       "  \n",
       "  <text fill=\"#00BB00\" x=\"0\" y=\"0\" transform=\"matrix(0.53,0,0,0.100,202,49)\">A</text>\n",
       "  <text fill=\"#F9A500\" x=\"0\" y=\"0\" transform=\"matrix(0.55,0,0,0.100,200,44)\">G</text>\n",
       "  <text fill=\"#DD0000\" x=\"0\" y=\"0\" transform=\"matrix(0.65,0,0,0.100,201,39)\">T</text>\n",
       "  <text fill=\"#0000EE\" x=\"0\" y=\"0\" transform=\"matrix(0.59,0,0,0.700,200,34)\">C</text>\n",
       "  \n",
       "  <text fill=\"#00BB00\" x=\"0\" y=\"0\" transform=\"matrix(0.53,0,0,0.100,227,49)\">A</text>\n",
       "  <text fill=\"#0000EE\" x=\"0\" y=\"0\" transform=\"matrix(0.59,0,0,0.100,225,44)\">C</text>\n",
       "  <text fill=\"#F9A500\" x=\"0\" y=\"0\" transform=\"matrix(0.55,0,0,0.100,225,39)\">G</text>\n",
       "  <text fill=\"#DD0000\" x=\"0\" y=\"0\" transform=\"matrix(0.65,0,0,0.700,226,34)\">T</text>\n",
       "  \n",
       "  <text fill=\"#00BB00\" x=\"0\" y=\"0\" transform=\"matrix(0.53,0,0,0.100,252,49)\">A</text>\n",
       "  <text fill=\"#F9A500\" x=\"0\" y=\"0\" transform=\"matrix(0.55,0,0,0.100,250,44)\">G</text>\n",
       "  <text fill=\"#DD0000\" x=\"0\" y=\"0\" transform=\"matrix(0.65,0,0,0.100,251,39)\">T</text>\n",
       "  <text fill=\"#0000EE\" x=\"0\" y=\"0\" transform=\"matrix(0.59,0,0,0.700,250,34)\">C</text>\n",
       "  \n",
       " </g>\n",
       "</svg>"
      ],
      "text/plain": [
       "<IPython.core.display.SVG object>"
      ]
     },
     "metadata": {},
     "output_type": "display_data"
    },
    {
     "name": "stdout",
     "output_type": "stream",
     "text": [
      "TRPS1(Zf)\n"
     ]
    },
    {
     "data": {
      "image/svg+xml": [
       "<svg width=\"280\" height=\"50\">\n",
       " <g font-family=\"Arial\" font-weight=\"bold\" font-size=\"66.5\">\n",
       "  <text fill=\"#00BB00\" x=\"0\" y=\"0\" transform=\"matrix(0.53,0,0,0.100,2,49)\">A</text>\n",
       "  <text fill=\"#0000EE\" x=\"0\" y=\"0\" transform=\"matrix(0.59,0,0,0.100,0,44)\">C</text>\n",
       "  <text fill=\"#F9A500\" x=\"0\" y=\"0\" transform=\"matrix(0.55,0,0,0.100,0,39)\">G</text>\n",
       "  <text fill=\"#DD0000\" x=\"0\" y=\"0\" transform=\"matrix(0.65,0,0,0.700,1,34)\">T</text>\n",
       "  \n",
       "  <text fill=\"#00BB00\" x=\"0\" y=\"0\" transform=\"matrix(0.53,0,0,0.100,27,49)\">A</text>\n",
       "  <text fill=\"#0000EE\" x=\"0\" y=\"0\" transform=\"matrix(0.59,0,0,0.100,25,44)\">C</text>\n",
       "  <text fill=\"#F9A500\" x=\"0\" y=\"0\" transform=\"matrix(0.55,0,0,0.100,25,39)\">G</text>\n",
       "  <text fill=\"#DD0000\" x=\"0\" y=\"0\" transform=\"matrix(0.65,0,0,0.700,26,34)\">T</text>\n",
       "  \n",
       "  <text fill=\"#00BB00\" x=\"0\" y=\"0\" transform=\"matrix(0.53,0,0,0.100,52,49)\">A</text>\n",
       "  <text fill=\"#0000EE\" x=\"0\" y=\"0\" transform=\"matrix(0.59,0,0,0.100,50,44)\">C</text>\n",
       "  <text fill=\"#F9A500\" x=\"0\" y=\"0\" transform=\"matrix(0.55,0,0,0.100,50,39)\">G</text>\n",
       "  <text fill=\"#DD0000\" x=\"0\" y=\"0\" transform=\"matrix(0.65,0,0,0.700,51,34)\">T</text>\n",
       "  \n",
       "  <text fill=\"#00BB00\" x=\"0\" y=\"0\" transform=\"matrix(0.53,0,0,0.100,77,49)\">A</text>\n",
       "  <text fill=\"#0000EE\" x=\"0\" y=\"0\" transform=\"matrix(0.59,0,0,0.100,75,44)\">C</text>\n",
       "  <text fill=\"#F9A500\" x=\"0\" y=\"0\" transform=\"matrix(0.55,0,0,0.100,75,39)\">G</text>\n",
       "  <text fill=\"#DD0000\" x=\"0\" y=\"0\" transform=\"matrix(0.65,0,0,0.700,76,34)\">T</text>\n",
       "  \n",
       "  <text fill=\"#0000EE\" x=\"0\" y=\"0\" transform=\"matrix(0.59,0,0,0.100,100,49)\">C</text>\n",
       "  <text fill=\"#F9A500\" x=\"0\" y=\"0\" transform=\"matrix(0.55,0,0,0.100,100,44)\">G</text>\n",
       "  <text fill=\"#DD0000\" x=\"0\" y=\"0\" transform=\"matrix(0.65,0,0,0.100,101,39)\">T</text>\n",
       "  <text fill=\"#00BB00\" x=\"0\" y=\"0\" transform=\"matrix(0.53,0,0,0.700,102,34)\">A</text>\n",
       "  \n",
       "  <text fill=\"#00BB00\" x=\"0\" y=\"0\" transform=\"matrix(0.53,0,0,0.100,127,49)\">A</text>\n",
       "  <text fill=\"#0000EE\" x=\"0\" y=\"0\" transform=\"matrix(0.59,0,0,0.100,125,44)\">C</text>\n",
       "  <text fill=\"#F9A500\" x=\"0\" y=\"0\" transform=\"matrix(0.55,0,0,0.100,125,39)\">G</text>\n",
       "  <text fill=\"#DD0000\" x=\"0\" y=\"0\" transform=\"matrix(0.65,0,0,0.700,126,34)\">T</text>\n",
       "  \n",
       "  <text fill=\"#00BB00\" x=\"0\" y=\"0\" transform=\"matrix(0.53,0,0,0.100,152,49)\">A</text>\n",
       "  <text fill=\"#F9A500\" x=\"0\" y=\"0\" transform=\"matrix(0.55,0,0,0.100,150,44)\">G</text>\n",
       "  <text fill=\"#DD0000\" x=\"0\" y=\"0\" transform=\"matrix(0.65,0,0,0.100,151,39)\">T</text>\n",
       "  <text fill=\"#0000EE\" x=\"0\" y=\"0\" transform=\"matrix(0.59,0,0,0.700,150,34)\">C</text>\n",
       "  \n",
       "  <text fill=\"#00BB00\" x=\"0\" y=\"0\" transform=\"matrix(0.53,0,0,0.100,177,49)\">A</text>\n",
       "  <text fill=\"#0000EE\" x=\"0\" y=\"0\" transform=\"matrix(0.59,0,0,0.100,175,44)\">C</text>\n",
       "  <text fill=\"#F9A500\" x=\"0\" y=\"0\" transform=\"matrix(0.55,0,0,0.100,175,39)\">G</text>\n",
       "  <text fill=\"#DD0000\" x=\"0\" y=\"0\" transform=\"matrix(0.65,0,0,0.700,176,34)\">T</text>\n",
       "  \n",
       "  <text fill=\"#0000EE\" x=\"0\" y=\"0\" transform=\"matrix(0.59,0,0,0.100,200,49)\">C</text>\n",
       "  <text fill=\"#F9A500\" x=\"0\" y=\"0\" transform=\"matrix(0.55,0,0,0.100,200,44)\">G</text>\n",
       "  <text fill=\"#DD0000\" x=\"0\" y=\"0\" transform=\"matrix(0.65,0,0,0.100,201,39)\">T</text>\n",
       "  <text fill=\"#00BB00\" x=\"0\" y=\"0\" transform=\"matrix(0.53,0,0,0.700,202,34)\">A</text>\n",
       "  \n",
       "  <text fill=\"#0000EE\" x=\"0\" y=\"0\" transform=\"matrix(0.59,0,0,0.100,225,49)\">C</text>\n",
       "  <text fill=\"#F9A500\" x=\"0\" y=\"0\" transform=\"matrix(0.55,0,0,0.100,225,44)\">G</text>\n",
       "  <text fill=\"#DD0000\" x=\"0\" y=\"0\" transform=\"matrix(0.65,0,0,0.100,226,39)\">T</text>\n",
       "  <text fill=\"#00BB00\" x=\"0\" y=\"0\" transform=\"matrix(0.53,0,0,0.700,227,34)\">A</text>\n",
       "  \n",
       "  <text fill=\"#0000EE\" x=\"0\" y=\"0\" transform=\"matrix(0.59,0,0,0.100,250,49)\">C</text>\n",
       "  <text fill=\"#F9A500\" x=\"0\" y=\"0\" transform=\"matrix(0.55,0,0,0.100,250,44)\">G</text>\n",
       "  <text fill=\"#DD0000\" x=\"0\" y=\"0\" transform=\"matrix(0.65,0,0,0.100,251,39)\">T</text>\n",
       "  <text fill=\"#00BB00\" x=\"0\" y=\"0\" transform=\"matrix(0.53,0,0,0.700,252,34)\">A</text>\n",
       "  \n",
       " </g>\n",
       "</svg>"
      ],
      "text/plain": [
       "<IPython.core.display.SVG object>"
      ]
     },
     "metadata": {},
     "output_type": "display_data"
    },
    {
     "name": "stdout",
     "output_type": "stream",
     "text": [
      "HNF6(Homeobox)\n"
     ]
    },
    {
     "data": {
      "image/svg+xml": [
       "<svg width=\"280\" height=\"50\">\n",
       " <g font-family=\"Arial\" font-weight=\"bold\" font-size=\"66.5\">\n",
       "  <text fill=\"#00BB00\" x=\"0\" y=\"0\" transform=\"matrix(0.53,0,0,0.100,2,49)\">A</text>\n",
       "  <text fill=\"#F9A500\" x=\"0\" y=\"0\" transform=\"matrix(0.55,0,0,0.100,0,44)\">G</text>\n",
       "  <text fill=\"#DD0000\" x=\"0\" y=\"0\" transform=\"matrix(0.65,0,0,0.100,1,39)\">T</text>\n",
       "  <text fill=\"#0000EE\" x=\"0\" y=\"0\" transform=\"matrix(0.59,0,0,0.700,0,34)\">C</text>\n",
       "  \n",
       "  <text fill=\"#00BB00\" x=\"0\" y=\"0\" transform=\"matrix(0.53,0,0,0.100,27,49)\">A</text>\n",
       "  <text fill=\"#0000EE\" x=\"0\" y=\"0\" transform=\"matrix(0.59,0,0,0.100,25,44)\">C</text>\n",
       "  <text fill=\"#DD0000\" x=\"0\" y=\"0\" transform=\"matrix(0.65,0,0,0.100,26,39)\">T</text>\n",
       "  <text fill=\"#F9A500\" x=\"0\" y=\"0\" transform=\"matrix(0.55,0,0,0.700,25,34)\">G</text>\n",
       "  \n",
       "  <text fill=\"#0000EE\" x=\"0\" y=\"0\" transform=\"matrix(0.59,0,0,0.100,50,49)\">C</text>\n",
       "  <text fill=\"#F9A500\" x=\"0\" y=\"0\" transform=\"matrix(0.55,0,0,0.100,50,44)\">G</text>\n",
       "  <text fill=\"#DD0000\" x=\"0\" y=\"0\" transform=\"matrix(0.65,0,0,0.100,51,39)\">T</text>\n",
       "  <text fill=\"#00BB00\" x=\"0\" y=\"0\" transform=\"matrix(0.53,0,0,0.700,52,34)\">A</text>\n",
       "  \n",
       "  <text fill=\"#00BB00\" x=\"0\" y=\"0\" transform=\"matrix(0.53,0,0,0.100,77,49)\">A</text>\n",
       "  <text fill=\"#0000EE\" x=\"0\" y=\"0\" transform=\"matrix(0.59,0,0,0.100,75,44)\">C</text>\n",
       "  <text fill=\"#F9A500\" x=\"0\" y=\"0\" transform=\"matrix(0.55,0,0,0.100,75,39)\">G</text>\n",
       "  <text fill=\"#DD0000\" x=\"0\" y=\"0\" transform=\"matrix(0.65,0,0,0.700,76,34)\">T</text>\n",
       "  \n",
       "  <text fill=\"#00BB00\" x=\"0\" y=\"0\" transform=\"matrix(0.53,0,0,0.100,102,49)\">A</text>\n",
       "  <text fill=\"#F9A500\" x=\"0\" y=\"0\" transform=\"matrix(0.55,0,0,0.100,100,44)\">G</text>\n",
       "  <text fill=\"#DD0000\" x=\"0\" y=\"0\" transform=\"matrix(0.65,0,0,0.100,101,39)\">T</text>\n",
       "  <text fill=\"#0000EE\" x=\"0\" y=\"0\" transform=\"matrix(0.59,0,0,0.700,100,34)\">C</text>\n",
       "  \n",
       "  <text fill=\"#0000EE\" x=\"0\" y=\"0\" transform=\"matrix(0.59,0,0,0.100,125,49)\">C</text>\n",
       "  <text fill=\"#F9A500\" x=\"0\" y=\"0\" transform=\"matrix(0.55,0,0,0.100,125,44)\">G</text>\n",
       "  <text fill=\"#DD0000\" x=\"0\" y=\"0\" transform=\"matrix(0.65,0,0,0.100,126,39)\">T</text>\n",
       "  <text fill=\"#00BB00\" x=\"0\" y=\"0\" transform=\"matrix(0.53,0,0,0.700,127,34)\">A</text>\n",
       "  \n",
       "  <text fill=\"#0000EE\" x=\"0\" y=\"0\" transform=\"matrix(0.59,0,0,0.100,150,49)\">C</text>\n",
       "  <text fill=\"#F9A500\" x=\"0\" y=\"0\" transform=\"matrix(0.55,0,0,0.100,150,44)\">G</text>\n",
       "  <text fill=\"#DD0000\" x=\"0\" y=\"0\" transform=\"matrix(0.65,0,0,0.100,151,39)\">T</text>\n",
       "  <text fill=\"#00BB00\" x=\"0\" y=\"0\" transform=\"matrix(0.53,0,0,0.700,152,34)\">A</text>\n",
       "  \n",
       "  <text fill=\"#00BB00\" x=\"0\" y=\"0\" transform=\"matrix(0.53,0,0,0.100,177,49)\">A</text>\n",
       "  <text fill=\"#0000EE\" x=\"0\" y=\"0\" transform=\"matrix(0.59,0,0,0.100,175,44)\">C</text>\n",
       "  <text fill=\"#F9A500\" x=\"0\" y=\"0\" transform=\"matrix(0.55,0,0,0.100,175,39)\">G</text>\n",
       "  <text fill=\"#DD0000\" x=\"0\" y=\"0\" transform=\"matrix(0.65,0,0,0.700,176,34)\">T</text>\n",
       "  \n",
       "  <text fill=\"#0000EE\" x=\"0\" y=\"0\" transform=\"matrix(0.59,0,0,0.100,200,49)\">C</text>\n",
       "  <text fill=\"#F9A500\" x=\"0\" y=\"0\" transform=\"matrix(0.55,0,0,0.100,200,44)\">G</text>\n",
       "  <text fill=\"#DD0000\" x=\"0\" y=\"0\" transform=\"matrix(0.65,0,0,0.100,201,39)\">T</text>\n",
       "  <text fill=\"#00BB00\" x=\"0\" y=\"0\" transform=\"matrix(0.53,0,0,0.700,202,34)\">A</text>\n",
       "  \n",
       "  <text fill=\"#00BB00\" x=\"0\" y=\"0\" transform=\"matrix(0.53,0,0,0.100,227,49)\">A</text>\n",
       "  <text fill=\"#F9A500\" x=\"0\" y=\"0\" transform=\"matrix(0.55,0,0,0.100,225,44)\">G</text>\n",
       "  <text fill=\"#DD0000\" x=\"0\" y=\"0\" transform=\"matrix(0.65,0,0,0.100,226,39)\">T</text>\n",
       "  <text fill=\"#0000EE\" x=\"0\" y=\"0\" transform=\"matrix(0.59,0,0,0.700,225,34)\">C</text>\n",
       "  \n",
       "  <text fill=\"#00BB00\" x=\"0\" y=\"0\" transform=\"matrix(0.53,0,0,0.100,252,49)\">A</text>\n",
       "  <text fill=\"#0000EE\" x=\"0\" y=\"0\" transform=\"matrix(0.59,0,0,0.100,250,44)\">C</text>\n",
       "  <text fill=\"#F9A500\" x=\"0\" y=\"0\" transform=\"matrix(0.55,0,0,0.100,250,39)\">G</text>\n",
       "  <text fill=\"#DD0000\" x=\"0\" y=\"0\" transform=\"matrix(0.65,0,0,0.700,251,34)\">T</text>\n",
       "  \n",
       " </g>\n",
       "</svg>"
      ],
      "text/plain": [
       "<IPython.core.display.SVG object>"
      ]
     },
     "metadata": {},
     "output_type": "display_data"
    },
    {
     "name": "stdout",
     "output_type": "stream",
     "text": [
      "nub\n"
     ]
    },
    {
     "data": {
      "image/svg+xml": [
       "<svg width=\"280\" height=\"50\">\n",
       " <g font-family=\"Arial\" font-weight=\"bold\" font-size=\"66.5\">\n",
       "  <text fill=\"#0000EE\" x=\"0\" y=\"0\" transform=\"matrix(0.59,0,0,0.100,0,49)\">C</text>\n",
       "  <text fill=\"#F9A500\" x=\"0\" y=\"0\" transform=\"matrix(0.55,0,0,0.100,0,44)\">G</text>\n",
       "  <text fill=\"#DD0000\" x=\"0\" y=\"0\" transform=\"matrix(0.65,0,0,0.100,1,39)\">T</text>\n",
       "  <text fill=\"#00BB00\" x=\"0\" y=\"0\" transform=\"matrix(0.53,0,0,0.700,2,34)\">A</text>\n",
       "  \n",
       "  <text fill=\"#00BB00\" x=\"0\" y=\"0\" transform=\"matrix(0.53,0,0,0.100,27,49)\">A</text>\n",
       "  <text fill=\"#0000EE\" x=\"0\" y=\"0\" transform=\"matrix(0.59,0,0,0.100,25,44)\">C</text>\n",
       "  <text fill=\"#F9A500\" x=\"0\" y=\"0\" transform=\"matrix(0.55,0,0,0.100,25,39)\">G</text>\n",
       "  <text fill=\"#DD0000\" x=\"0\" y=\"0\" transform=\"matrix(0.65,0,0,0.700,26,34)\">T</text>\n",
       "  \n",
       "  <text fill=\"#00BB00\" x=\"0\" y=\"0\" transform=\"matrix(0.53,0,0,0.100,52,49)\">A</text>\n",
       "  <text fill=\"#0000EE\" x=\"0\" y=\"0\" transform=\"matrix(0.59,0,0,0.100,50,44)\">C</text>\n",
       "  <text fill=\"#F9A500\" x=\"0\" y=\"0\" transform=\"matrix(0.55,0,0,0.100,50,39)\">G</text>\n",
       "  <text fill=\"#DD0000\" x=\"0\" y=\"0\" transform=\"matrix(0.65,0,0,0.700,51,34)\">T</text>\n",
       "  \n",
       "  <text fill=\"#0000EE\" x=\"0\" y=\"0\" transform=\"matrix(0.59,0,0,0.100,75,49)\">C</text>\n",
       "  <text fill=\"#F9A500\" x=\"0\" y=\"0\" transform=\"matrix(0.55,0,0,0.100,75,44)\">G</text>\n",
       "  <text fill=\"#DD0000\" x=\"0\" y=\"0\" transform=\"matrix(0.65,0,0,0.100,76,39)\">T</text>\n",
       "  <text fill=\"#00BB00\" x=\"0\" y=\"0\" transform=\"matrix(0.53,0,0,0.700,77,34)\">A</text>\n",
       "  \n",
       "  <text fill=\"#00BB00\" x=\"0\" y=\"0\" transform=\"matrix(0.53,0,0,0.100,102,49)\">A</text>\n",
       "  <text fill=\"#0000EE\" x=\"0\" y=\"0\" transform=\"matrix(0.59,0,0,0.100,100,44)\">C</text>\n",
       "  <text fill=\"#F9A500\" x=\"0\" y=\"0\" transform=\"matrix(0.55,0,0,0.100,100,39)\">G</text>\n",
       "  <text fill=\"#DD0000\" x=\"0\" y=\"0\" transform=\"matrix(0.65,0,0,0.700,101,34)\">T</text>\n",
       "  \n",
       "  <text fill=\"#00BB00\" x=\"0\" y=\"0\" transform=\"matrix(0.53,0,0,0.100,127,49)\">A</text>\n",
       "  <text fill=\"#0000EE\" x=\"0\" y=\"0\" transform=\"matrix(0.59,0,0,0.100,125,44)\">C</text>\n",
       "  <text fill=\"#DD0000\" x=\"0\" y=\"0\" transform=\"matrix(0.65,0,0,0.100,126,39)\">T</text>\n",
       "  <text fill=\"#F9A500\" x=\"0\" y=\"0\" transform=\"matrix(0.55,0,0,0.700,125,34)\">G</text>\n",
       "  \n",
       "  <text fill=\"#00BB00\" x=\"0\" y=\"0\" transform=\"matrix(0.53,0,0,0.100,152,49)\">A</text>\n",
       "  <text fill=\"#F9A500\" x=\"0\" y=\"0\" transform=\"matrix(0.55,0,0,0.100,150,44)\">G</text>\n",
       "  <text fill=\"#DD0000\" x=\"0\" y=\"0\" transform=\"matrix(0.65,0,0,0.100,151,39)\">T</text>\n",
       "  <text fill=\"#0000EE\" x=\"0\" y=\"0\" transform=\"matrix(0.59,0,0,0.700,150,34)\">C</text>\n",
       "  \n",
       "  <text fill=\"#0000EE\" x=\"0\" y=\"0\" transform=\"matrix(0.59,0,0,0.100,175,49)\">C</text>\n",
       "  <text fill=\"#F9A500\" x=\"0\" y=\"0\" transform=\"matrix(0.55,0,0,0.100,175,44)\">G</text>\n",
       "  <text fill=\"#DD0000\" x=\"0\" y=\"0\" transform=\"matrix(0.65,0,0,0.100,176,39)\">T</text>\n",
       "  <text fill=\"#00BB00\" x=\"0\" y=\"0\" transform=\"matrix(0.53,0,0,0.700,177,34)\">A</text>\n",
       "  \n",
       "  <text fill=\"#00BB00\" x=\"0\" y=\"0\" transform=\"matrix(0.53,0,0,0.100,202,49)\">A</text>\n",
       "  <text fill=\"#0000EE\" x=\"0\" y=\"0\" transform=\"matrix(0.59,0,0,0.100,200,44)\">C</text>\n",
       "  <text fill=\"#DD0000\" x=\"0\" y=\"0\" transform=\"matrix(0.65,0,0,0.100,201,39)\">T</text>\n",
       "  <text fill=\"#F9A500\" x=\"0\" y=\"0\" transform=\"matrix(0.55,0,0,0.700,200,34)\">G</text>\n",
       "  \n",
       "  <text fill=\"#00BB00\" x=\"0\" y=\"0\" transform=\"matrix(0.53,0,0,0.100,227,49)\">A</text>\n",
       "  <text fill=\"#0000EE\" x=\"0\" y=\"0\" transform=\"matrix(0.59,0,0,0.100,225,44)\">C</text>\n",
       "  <text fill=\"#DD0000\" x=\"0\" y=\"0\" transform=\"matrix(0.65,0,0,0.100,226,39)\">T</text>\n",
       "  <text fill=\"#F9A500\" x=\"0\" y=\"0\" transform=\"matrix(0.55,0,0,0.700,225,34)\">G</text>\n",
       "  \n",
       "  <text fill=\"#0000EE\" x=\"0\" y=\"0\" transform=\"matrix(0.59,0,0,0.100,250,49)\">C</text>\n",
       "  <text fill=\"#F9A500\" x=\"0\" y=\"0\" transform=\"matrix(0.55,0,0,0.100,250,44)\">G</text>\n",
       "  <text fill=\"#DD0000\" x=\"0\" y=\"0\" transform=\"matrix(0.65,0,0,0.100,251,39)\">T</text>\n",
       "  <text fill=\"#00BB00\" x=\"0\" y=\"0\" transform=\"matrix(0.53,0,0,0.700,252,34)\">A</text>\n",
       "  \n",
       " </g>\n",
       "</svg>"
      ],
      "text/plain": [
       "<IPython.core.display.SVG object>"
      ]
     },
     "metadata": {},
     "output_type": "display_data"
    }
   ],
   "source": [
    "from IPython.display import SVG, display\n",
    "\n",
    "# Logos for HOMER\n",
    "## Verify with homerResults.html that the motif names printed match the motif. It is possible the output motifs may change\n",
    "## in the future due to being false positives with very high p-values.\n",
    "print('Top sequence logos outputted by HOMER for example test data: \\n')\n",
    "print('RBP1-LIKE(RRM)')\n",
    "display(SVG('homer-results/example-data/homerResults/motif1.logo.svg'))\n",
    "\n",
    "print('pho')\n",
    "display(SVG('homer-results/example-data/homerResults/motif2.logo.svg'))\n",
    "\n",
    "print('TRPS1(Zf)')\n",
    "display(SVG('homer-results/example-data/homerResults/motif3.logo.svg'))\n",
    "\n",
    "print('HNF6(Homeobox)')\n",
    "display(SVG('homer-results/example-data/homerResults/motif4.logo.svg'))\n",
    "\n",
    "print('nub')\n",
    "display(SVG('homer-results/example-data/homerResults/motif5.logo.svg'))"
   ]
  },
  {
   "cell_type": "markdown",
   "id": "345435f2",
   "metadata": {},
   "source": [
    "***Sequence Logos From Pyxis for Example Data:***\n",
    "\n",
    "| Name of Motif | Sequence Logo |\n",
    "| :---: | :-----------------: |\n",
    "| ALX3_HUMAN.H11MO.0.D | <img src=\"../ALX3_HUMAN.H11MO.0.D_pyxis_logo.png\" alt=\"ALX3_example_pyxis_logo\" width=\"250\"/> |\n",
    "| BACH2_HUMAN.H11MO.0.A | <img src=\"../BACH2_HUMAN.H11MO.0.A_pyxis_logo.png\" alt=\"BACH2_example_pyxis_logo\" width=\"250\"/> |\n",
    "| ELK1_HUMAN.H11MO.0.B | <img src=\"../ELK1_HUMAN.H11MO.0.B_pyxis_logo.png\" alt=\"ELK1_example_pyxis_logo\" width=\"250\"/> |\n",
    "| KAISO_HUMAN.H11MO.1.A | <img src=\"../KAISO_HUMAN.H11MO.1.A_pyxis_logo.png\" alt=\"KAISO_example_pyxis_logo\" width=\"250\"/> |\n",
    "\n",
    "*(Note: You will need to run `pyxis` specific to the example data command above before seeing the sequence logos relevant to this data. If you run `pyxis` in the next section on the ISL1 data then come back and run this Markdown, there is a chance these logos may change.)*\n",
    "\n",
    "As you can see, the enriched motifs found are extremely different from one another for these example test files. This is mostly due to **two reasons**: \n",
    "\n",
    "1. `HOMER` scans its entire database for the motifs that are most enriched in the given peak sequences, and outputs in its results some of the top ones. However, in `pyxis`, the functionality is a little different. You instead need to input your own file of known PWMs for motifs of interest, and then the tool will determine if these motifs are significantly enriched in the input peaks or not.\n",
    "\n",
    "\n",
    "2. We were not really expecting to find any significantly enriched motifs in these example test files, given that the peak sequences and reference genome are completely random and very small in size. So in the case of `HOMER`, the top enriched motifs they outputted were moreso random and were even marked as possible false positives. Their p-values were non-significant and around 0.1 to 1. Similarly, `pyxis` did not find any of the motifs as significant either, with high p-values."
   ]
  },
  {
   "cell_type": "markdown",
   "id": "d93a306f",
   "metadata": {},
   "source": [
    "### B. ISL1 Dataset Results"
   ]
  },
  {
   "cell_type": "code",
   "execution_count": 6,
   "id": "be83f9e5",
   "metadata": {},
   "outputs": [
    {
     "name": "stderr",
     "output_type": "stream",
     "text": [
     ]
    }
   ],
   "source": [
    "%%bash\n",
    "# HOMER - Check homer-results/isl1/homerResults.html for results\n",
    "currdir=$(pwd)\n",
    "findMotifsGenome.pl $currdir'/analysis/GSM5838045_S1_ISL1_WT_d6CP_Rep1.bed' $currdir'/benchmark/hg19.fa' homer-results/isl1"
   ]
  },
  {
   "cell_type": "code",
   "execution_count": 6,
   "id": "69baf59d",
   "metadata": {},
   "outputs": [
    {
     "name": "stdout",
     "output_type": "stream",
     "text": [
      "Pyxis Enrichment Results\n",
      "motif_name\tpval\tlog_pval\tnum_peak_motif\tpct_peak_motif\tnum_bg_motif\tpct_bg_motif\tenriched_status\n",
      "ISL1_MOUSE.H11MO.0.A\t1.0223230785258142e-304\t-303.99041\t4835\t0.781856403622251\t2845\t0.4600582147477361\tSig\n",
      "NKX25_MOUSE.H11MO.0.A\t1.847333133348162e-278\t-277.73345\t4658\t0.7532341526520052\t2732\t0.44178525226390686\tSig\n",
      "LHX3_MOUSE.H11MO.0.C\t1.889214798709375e-267\t-266.72372\t4212\t0.6811125485122898\t2287\t0.3698253557567917\tSig\n",
      "BACH2_HUMAN.H11MO.0.A\t1.5872954274916599e-229\t-228.79934\t4848\t0.7839586028460543\t3144\t0.5084087968952135\tSig\n",
      "NKX22_MOUSE.H11MO.0.A\t2.1064481160582724e-219\t-218.67645\t5360\t0.8667529107373868\t3850\t0.6225743855109961\tSig\n",
      "KAISO_HUMAN.H11MO.1.A\t2.2112285934436577e-99\t-98.65537\t2888\t0.4670116429495472\t1752\t0.2833117723156533\tSig\n",
      "MLX_HUMAN.H11MO.0.D\t1.838484664632186e-78\t-77.73554\t4641\t0.7504851228978008\t5444\t0.8803363518758085\tSig\n",
      "ALX3_HUMAN.H11MO.0.D\t3.020533650244067e-13\t-12.51992\t6109\t0.9878719275549805\t5992\t0.9689521345407504\tSig\n",
      "GATA4_MOUSE.H11MO.0.A\t0.031212105905057807\t-1.50568\t6184\t1.0\t6178\t0.9990297542043984\tNon-sig\n",
      "ELK1_HUMAN.H11MO.0.B\t0.3748989122970916\t-0.42609\t6183\t0.9998382923673997\t6180\t0.999353169469599\tNon-sig\n"
     ]
    }
   ],
   "source": [
    "%%bash\n",
    "DIR=`cat scriptpath.txt`\n",
    "export PATH=$PATH:$DIR\n",
    "\n",
    "# pyxis - Check pyxis_enrichments.tsv for results\n",
    "currdir=$(pwd)\n",
    "pyxis $currdir'/analysis/GSM5838045_S1_ISL1_WT_d6CP_Rep1.bed' $currdir'/benchmark/hg19.fa' $currdir'/benchmark/isl1.pwms' -s > /dev/null\n",
    "printf 'Pyxis Enrichment Results\\n'\n",
    "cat pyxis_enrichments.tsv"
   ]
  },
  {
   "cell_type": "code",
   "execution_count": 52,
   "id": "04633ec0",
   "metadata": {},
   "outputs": [
    {
     "name": "stdout",
     "output_type": "stream",
     "text": [
      "Top sequence logos outputted by HOMER for ISL1 dataset: \n",
      "\n",
      "GATA2\n"
     ]
    },
    {
     "data": {
      "image/svg+xml": [
       "<svg width=\"205\" height=\"50\">\n",
       " <g font-family=\"Arial\" font-weight=\"bold\" font-size=\"66.5\">\n",
       "  <text fill=\"#0000EE\" x=\"0\" y=\"0\" transform=\"matrix(0.59,0,0,0.012,0,49)\">C</text>\n",
       "  <text fill=\"#F9A500\" x=\"0\" y=\"0\" transform=\"matrix(0.55,0,0,0.016,0,48.4)\">G</text>\n",
       "  <text fill=\"#DD0000\" x=\"0\" y=\"0\" transform=\"matrix(0.65,0,0,0.215,1,47.6)\">T</text>\n",
       "  <text fill=\"#00BB00\" x=\"0\" y=\"0\" transform=\"matrix(0.53,0,0,0.757,2,36.85)\">A</text>\n",
       "  \n",
       "  <text fill=\"#00BB00\" x=\"0\" y=\"0\" transform=\"matrix(0.53,0,0,0.001,27,49)\">A</text>\n",
       "  <text fill=\"#DD0000\" x=\"0\" y=\"0\" transform=\"matrix(0.65,0,0,0.001,26,48.95)\">T</text>\n",
       "  <text fill=\"#0000EE\" x=\"0\" y=\"0\" transform=\"matrix(0.59,0,0,0.002,25,48.9)\">C</text>\n",
       "  <text fill=\"#F9A500\" x=\"0\" y=\"0\" transform=\"matrix(0.55,0,0,0.996,25,48.8)\">G</text>\n",
       "  \n",
       "  <text fill=\"#F9A500\" x=\"0\" y=\"0\" transform=\"matrix(0.55,0,0,0.001,50,49)\">G</text>\n",
       "  <text fill=\"#DD0000\" x=\"0\" y=\"0\" transform=\"matrix(0.65,0,0,0.013,51,48.95)\">T</text>\n",
       "  <text fill=\"#0000EE\" x=\"0\" y=\"0\" transform=\"matrix(0.59,0,0,0.027,50,48.3)\">C</text>\n",
       "  <text fill=\"#00BB00\" x=\"0\" y=\"0\" transform=\"matrix(0.53,0,0,0.959,52,46.95)\">A</text>\n",
       "  \n",
       "  <text fill=\"#00BB00\" x=\"0\" y=\"0\" transform=\"matrix(0.53,0,0,0.001,77,49)\">A</text>\n",
       "  <text fill=\"#0000EE\" x=\"0\" y=\"0\" transform=\"matrix(0.59,0,0,0.001,75,48.95)\">C</text>\n",
       "  <text fill=\"#F9A500\" x=\"0\" y=\"0\" transform=\"matrix(0.55,0,0,0.001,75,48.9)\">G</text>\n",
       "  <text fill=\"#DD0000\" x=\"0\" y=\"0\" transform=\"matrix(0.65,0,0,0.997,76,48.85)\">T</text>\n",
       "  \n",
       "  <text fill=\"#0000EE\" x=\"0\" y=\"0\" transform=\"matrix(0.59,0,0,0.001,100,49)\">C</text>\n",
       "  <text fill=\"#F9A500\" x=\"0\" y=\"0\" transform=\"matrix(0.55,0,0,0.001,100,48.95)\">G</text>\n",
       "  <text fill=\"#DD0000\" x=\"0\" y=\"0\" transform=\"matrix(0.65,0,0,0.024,101,48.9)\">T</text>\n",
       "  <text fill=\"#00BB00\" x=\"0\" y=\"0\" transform=\"matrix(0.53,0,0,0.974,102,47.7)\">A</text>\n",
       "  \n",
       "  <text fill=\"#DD0000\" x=\"0\" y=\"0\" transform=\"matrix(0.65,0,0,0.001,126,49)\">T</text>\n",
       "  <text fill=\"#0000EE\" x=\"0\" y=\"0\" transform=\"matrix(0.59,0,0,0.004,125,48.95)\">C</text>\n",
       "  <text fill=\"#F9A500\" x=\"0\" y=\"0\" transform=\"matrix(0.55,0,0,0.033,125,48.75)\">G</text>\n",
       "  <text fill=\"#00BB00\" x=\"0\" y=\"0\" transform=\"matrix(0.53,0,0,0.962,127,47.1)\">A</text>\n",
       "  \n",
       "  <text fill=\"#00BB00\" x=\"0\" y=\"0\" transform=\"matrix(0.53,0,0,0.065,152,49)\">A</text>\n",
       "  <text fill=\"#DD0000\" x=\"0\" y=\"0\" transform=\"matrix(0.65,0,0,0.086,151,45.75)\">T</text>\n",
       "  <text fill=\"#0000EE\" x=\"0\" y=\"0\" transform=\"matrix(0.59,0,0,0.114,150,41.45)\">C</text>\n",
       "  <text fill=\"#F9A500\" x=\"0\" y=\"0\" transform=\"matrix(0.55,0,0,0.735,150,35.75)\">G</text>\n",
       "  \n",
       "  <text fill=\"#DD0000\" x=\"0\" y=\"0\" transform=\"matrix(0.65,0,0,0.058,176,49)\">T</text>\n",
       "  <text fill=\"#0000EE\" x=\"0\" y=\"0\" transform=\"matrix(0.59,0,0,0.214,175,46.1)\">C</text>\n",
       "  <text fill=\"#F9A500\" x=\"0\" y=\"0\" transform=\"matrix(0.55,0,0,0.239,175,35.4)\">G</text>\n",
       "  <text fill=\"#00BB00\" x=\"0\" y=\"0\" transform=\"matrix(0.53,0,0,0.489,177,23.45)\">A</text>\n",
       "  \n",
       " </g>\n",
       "</svg>"
      ],
      "text/plain": [
       "<IPython.core.display.SVG object>"
      ]
     },
     "metadata": {},
     "output_type": "display_data"
    },
    {
     "name": "stdout",
     "output_type": "stream",
     "text": [
      "ISL2\n"
     ]
    },
    {
     "data": {
      "image/svg+xml": [
       "<svg width=\"205\" height=\"50\">\n",
       " <g font-family=\"Arial\" font-weight=\"bold\" font-size=\"66.5\">\n",
       "  <text fill=\"#00BB00\" x=\"0\" y=\"0\" transform=\"matrix(0.53,0,0,0.049,2,49)\">A</text>\n",
       "  <text fill=\"#DD0000\" x=\"0\" y=\"0\" transform=\"matrix(0.65,0,0,0.056,1,46.55)\">T</text>\n",
       "  <text fill=\"#0000EE\" x=\"0\" y=\"0\" transform=\"matrix(0.59,0,0,0.116,0,43.75)\">C</text>\n",
       "  <text fill=\"#F9A500\" x=\"0\" y=\"0\" transform=\"matrix(0.55,0,0,0.779,0,37.95)\">G</text>\n",
       "  \n",
       "  <text fill=\"#00BB00\" x=\"0\" y=\"0\" transform=\"matrix(0.53,0,0,0.001,27,49)\">A</text>\n",
       "  <text fill=\"#F9A500\" x=\"0\" y=\"0\" transform=\"matrix(0.55,0,0,0.001,25,48.95)\">G</text>\n",
       "  <text fill=\"#DD0000\" x=\"0\" y=\"0\" transform=\"matrix(0.65,0,0,0.019,26,48.9)\">T</text>\n",
       "  <text fill=\"#0000EE\" x=\"0\" y=\"0\" transform=\"matrix(0.59,0,0,0.979,25,47.95)\">C</text>\n",
       "  \n",
       "  <text fill=\"#0000EE\" x=\"0\" y=\"0\" transform=\"matrix(0.59,0,0,0.001,50,49)\">C</text>\n",
       "  <text fill=\"#F9A500\" x=\"0\" y=\"0\" transform=\"matrix(0.55,0,0,0.001,50,48.95)\">G</text>\n",
       "  <text fill=\"#DD0000\" x=\"0\" y=\"0\" transform=\"matrix(0.65,0,0,0.042,51,48.9)\">T</text>\n",
       "  <text fill=\"#00BB00\" x=\"0\" y=\"0\" transform=\"matrix(0.53,0,0,0.956,52,46.8)\">A</text>\n",
       "  \n",
       "  <text fill=\"#F9A500\" x=\"0\" y=\"0\" transform=\"matrix(0.55,0,0,0.001,75,49)\">G</text>\n",
       "  <text fill=\"#DD0000\" x=\"0\" y=\"0\" transform=\"matrix(0.65,0,0,0.001,76,48.95)\">T</text>\n",
       "  <text fill=\"#00BB00\" x=\"0\" y=\"0\" transform=\"matrix(0.53,0,0,0.020,77,48.9)\">A</text>\n",
       "  <text fill=\"#0000EE\" x=\"0\" y=\"0\" transform=\"matrix(0.59,0,0,0.978,75,47.9)\">C</text>\n",
       "  \n",
       "  <text fill=\"#00BB00\" x=\"0\" y=\"0\" transform=\"matrix(0.53,0,0,0.001,102,49)\">A</text>\n",
       "  <text fill=\"#F9A500\" x=\"0\" y=\"0\" transform=\"matrix(0.55,0,0,0.002,100,48.95)\">G</text>\n",
       "  <text fill=\"#0000EE\" x=\"0\" y=\"0\" transform=\"matrix(0.59,0,0,0.006,100,48.85)\">C</text>\n",
       "  <text fill=\"#DD0000\" x=\"0\" y=\"0\" transform=\"matrix(0.65,0,0,0.991,101,48.55)\">T</text>\n",
       "  \n",
       "  <text fill=\"#00BB00\" x=\"0\" y=\"0\" transform=\"matrix(0.53,0,0,0.001,127,49)\">A</text>\n",
       "  <text fill=\"#F9A500\" x=\"0\" y=\"0\" transform=\"matrix(0.55,0,0,0.001,125,48.95)\">G</text>\n",
       "  <text fill=\"#0000EE\" x=\"0\" y=\"0\" transform=\"matrix(0.59,0,0,0.022,125,48.9)\">C</text>\n",
       "  <text fill=\"#DD0000\" x=\"0\" y=\"0\" transform=\"matrix(0.65,0,0,0.976,126,47.8)\">T</text>\n",
       "  \n",
       "  <text fill=\"#0000EE\" x=\"0\" y=\"0\" transform=\"matrix(0.59,0,0,0.001,150,49)\">C</text>\n",
       "  <text fill=\"#F9A500\" x=\"0\" y=\"0\" transform=\"matrix(0.55,0,0,0.001,150,48.95)\">G</text>\n",
       "  <text fill=\"#DD0000\" x=\"0\" y=\"0\" transform=\"matrix(0.65,0,0,0.026,151,48.9)\">T</text>\n",
       "  <text fill=\"#00BB00\" x=\"0\" y=\"0\" transform=\"matrix(0.53,0,0,0.972,152,47.6)\">A</text>\n",
       "  \n",
       "  <text fill=\"#DD0000\" x=\"0\" y=\"0\" transform=\"matrix(0.65,0,0,0.050,176,49)\">T</text>\n",
       "  <text fill=\"#0000EE\" x=\"0\" y=\"0\" transform=\"matrix(0.59,0,0,0.062,175,46.5)\">C</text>\n",
       "  <text fill=\"#F9A500\" x=\"0\" y=\"0\" transform=\"matrix(0.55,0,0,0.278,175,43.4)\">G</text>\n",
       "  <text fill=\"#00BB00\" x=\"0\" y=\"0\" transform=\"matrix(0.53,0,0,0.610,177,29.5)\">A</text>\n",
       "  \n",
       " </g>\n",
       "</svg>"
      ],
      "text/plain": [
       "<IPython.core.display.SVG object>"
      ]
     },
     "metadata": {},
     "output_type": "display_data"
    },
    {
     "name": "stdout",
     "output_type": "stream",
     "text": [
      "TEAD3\n"
     ]
    },
    {
     "data": {
      "image/svg+xml": [
       "<svg width=\"205\" height=\"50\">\n",
       " <g font-family=\"Arial\" font-weight=\"bold\" font-size=\"66.5\">\n",
       "  <text fill=\"#0000EE\" x=\"0\" y=\"0\" transform=\"matrix(0.59,0,0,0.001,0,49)\">C</text>\n",
       "  <text fill=\"#DD0000\" x=\"0\" y=\"0\" transform=\"matrix(0.65,0,0,0.001,1,48.95)\">T</text>\n",
       "  <text fill=\"#F9A500\" x=\"0\" y=\"0\" transform=\"matrix(0.55,0,0,0.333,0,48.9)\">G</text>\n",
       "  <text fill=\"#00BB00\" x=\"0\" y=\"0\" transform=\"matrix(0.53,0,0,0.665,2,32.25)\">A</text>\n",
       "  \n",
       "  <text fill=\"#F9A500\" x=\"0\" y=\"0\" transform=\"matrix(0.55,0,0,0.001,25,49)\">G</text>\n",
       "  <text fill=\"#DD0000\" x=\"0\" y=\"0\" transform=\"matrix(0.65,0,0,0.001,26,48.95)\">T</text>\n",
       "  <text fill=\"#00BB00\" x=\"0\" y=\"0\" transform=\"matrix(0.53,0,0,0.048,27,48.9)\">A</text>\n",
       "  <text fill=\"#0000EE\" x=\"0\" y=\"0\" transform=\"matrix(0.59,0,0,0.950,25,46.5)\">C</text>\n",
       "  \n",
       "  <text fill=\"#0000EE\" x=\"0\" y=\"0\" transform=\"matrix(0.59,0,0,0.001,50,49)\">C</text>\n",
       "  <text fill=\"#F9A500\" x=\"0\" y=\"0\" transform=\"matrix(0.55,0,0,0.001,50,48.95)\">G</text>\n",
       "  <text fill=\"#DD0000\" x=\"0\" y=\"0\" transform=\"matrix(0.65,0,0,0.001,51,48.9)\">T</text>\n",
       "  <text fill=\"#00BB00\" x=\"0\" y=\"0\" transform=\"matrix(0.53,0,0,0.997,52,48.85)\">A</text>\n",
       "  \n",
       "  <text fill=\"#00BB00\" x=\"0\" y=\"0\" transform=\"matrix(0.53,0,0,0.001,77,49)\">A</text>\n",
       "  <text fill=\"#0000EE\" x=\"0\" y=\"0\" transform=\"matrix(0.59,0,0,0.001,75,48.95)\">C</text>\n",
       "  <text fill=\"#F9A500\" x=\"0\" y=\"0\" transform=\"matrix(0.55,0,0,0.001,75,48.9)\">G</text>\n",
       "  <text fill=\"#DD0000\" x=\"0\" y=\"0\" transform=\"matrix(0.65,0,0,0.997,76,48.85)\">T</text>\n",
       "  \n",
       "  <text fill=\"#00BB00\" x=\"0\" y=\"0\" transform=\"matrix(0.53,0,0,0.001,102,49)\">A</text>\n",
       "  <text fill=\"#0000EE\" x=\"0\" y=\"0\" transform=\"matrix(0.59,0,0,0.001,100,48.95)\">C</text>\n",
       "  <text fill=\"#F9A500\" x=\"0\" y=\"0\" transform=\"matrix(0.55,0,0,0.001,100,48.9)\">G</text>\n",
       "  <text fill=\"#DD0000\" x=\"0\" y=\"0\" transform=\"matrix(0.65,0,0,0.997,101,48.85)\">T</text>\n",
       "  \n",
       "  <text fill=\"#00BB00\" x=\"0\" y=\"0\" transform=\"matrix(0.53,0,0,0.001,127,49)\">A</text>\n",
       "  <text fill=\"#F9A500\" x=\"0\" y=\"0\" transform=\"matrix(0.55,0,0,0.001,125,48.95)\">G</text>\n",
       "  <text fill=\"#DD0000\" x=\"0\" y=\"0\" transform=\"matrix(0.65,0,0,0.001,126,48.9)\">T</text>\n",
       "  <text fill=\"#0000EE\" x=\"0\" y=\"0\" transform=\"matrix(0.59,0,0,0.997,125,48.85)\">C</text>\n",
       "  \n",
       "  <text fill=\"#00BB00\" x=\"0\" y=\"0\" transform=\"matrix(0.53,0,0,0.001,152,49)\">A</text>\n",
       "  <text fill=\"#F9A500\" x=\"0\" y=\"0\" transform=\"matrix(0.55,0,0,0.001,150,48.95)\">G</text>\n",
       "  <text fill=\"#DD0000\" x=\"0\" y=\"0\" transform=\"matrix(0.65,0,0,0.001,151,48.9)\">T</text>\n",
       "  <text fill=\"#0000EE\" x=\"0\" y=\"0\" transform=\"matrix(0.59,0,0,0.997,150,48.85)\">C</text>\n",
       "  \n",
       "  <text fill=\"#0000EE\" x=\"0\" y=\"0\" transform=\"matrix(0.59,0,0,0.001,175,49)\">C</text>\n",
       "  <text fill=\"#F9A500\" x=\"0\" y=\"0\" transform=\"matrix(0.55,0,0,0.001,175,48.95)\">G</text>\n",
       "  <text fill=\"#00BB00\" x=\"0\" y=\"0\" transform=\"matrix(0.53,0,0,0.460,177,48.9)\">A</text>\n",
       "  <text fill=\"#DD0000\" x=\"0\" y=\"0\" transform=\"matrix(0.65,0,0,0.538,176,25.9)\">T</text>\n",
       "  \n",
       " </g>\n",
       "</svg>"
      ],
      "text/plain": [
       "<IPython.core.display.SVG object>"
      ]
     },
     "metadata": {},
     "output_type": "display_data"
    },
    {
     "name": "stdout",
     "output_type": "stream",
     "text": [
      "MEIS2\n"
     ]
    },
    {
     "data": {
      "image/svg+xml": [
       "<svg width=\"205\" height=\"50\">\n",
       " <g font-family=\"Arial\" font-weight=\"bold\" font-size=\"66.5\">\n",
       "  <text fill=\"#00BB00\" x=\"0\" y=\"0\" transform=\"matrix(0.53,0,0,0.001,2,49)\">A</text>\n",
       "  <text fill=\"#DD0000\" x=\"0\" y=\"0\" transform=\"matrix(0.65,0,0,0.057,1,48.95)\">T</text>\n",
       "  <text fill=\"#0000EE\" x=\"0\" y=\"0\" transform=\"matrix(0.59,0,0,0.433,0,46.1)\">C</text>\n",
       "  <text fill=\"#F9A500\" x=\"0\" y=\"0\" transform=\"matrix(0.55,0,0,0.509,0,24.45)\">G</text>\n",
       "  \n",
       "  <text fill=\"#00BB00\" x=\"0\" y=\"0\" transform=\"matrix(0.53,0,0,0.001,27,49)\">A</text>\n",
       "  <text fill=\"#F9A500\" x=\"0\" y=\"0\" transform=\"matrix(0.55,0,0,0.001,25,48.95)\">G</text>\n",
       "  <text fill=\"#DD0000\" x=\"0\" y=\"0\" transform=\"matrix(0.65,0,0,0.288,26,48.9)\">T</text>\n",
       "  <text fill=\"#0000EE\" x=\"0\" y=\"0\" transform=\"matrix(0.59,0,0,0.710,25,34.5)\">C</text>\n",
       "  \n",
       "  <text fill=\"#00BB00\" x=\"0\" y=\"0\" transform=\"matrix(0.53,0,0,0.001,52,49)\">A</text>\n",
       "  <text fill=\"#0000EE\" x=\"0\" y=\"0\" transform=\"matrix(0.59,0,0,0.001,50,48.95)\">C</text>\n",
       "  <text fill=\"#F9A500\" x=\"0\" y=\"0\" transform=\"matrix(0.55,0,0,0.001,50,48.9)\">G</text>\n",
       "  <text fill=\"#DD0000\" x=\"0\" y=\"0\" transform=\"matrix(0.65,0,0,0.997,51,48.85)\">T</text>\n",
       "  \n",
       "  <text fill=\"#0000EE\" x=\"0\" y=\"0\" transform=\"matrix(0.59,0,0,0.068,75,49)\">C</text>\n",
       "  <text fill=\"#DD0000\" x=\"0\" y=\"0\" transform=\"matrix(0.65,0,0,0.198,76,45.6)\">T</text>\n",
       "  <text fill=\"#00BB00\" x=\"0\" y=\"0\" transform=\"matrix(0.53,0,0,0.207,77,35.7)\">A</text>\n",
       "  <text fill=\"#F9A500\" x=\"0\" y=\"0\" transform=\"matrix(0.55,0,0,0.527,75,25.35)\">G</text>\n",
       "  \n",
       "  <text fill=\"#0000EE\" x=\"0\" y=\"0\" transform=\"matrix(0.59,0,0,0.001,100,49)\">C</text>\n",
       "  <text fill=\"#F9A500\" x=\"0\" y=\"0\" transform=\"matrix(0.55,0,0,0.001,100,48.95)\">G</text>\n",
       "  <text fill=\"#00BB00\" x=\"0\" y=\"0\" transform=\"matrix(0.53,0,0,0.319,102,48.9)\">A</text>\n",
       "  <text fill=\"#DD0000\" x=\"0\" y=\"0\" transform=\"matrix(0.65,0,0,0.679,101,32.95)\">T</text>\n",
       "  \n",
       "  <text fill=\"#00BB00\" x=\"0\" y=\"0\" transform=\"matrix(0.53,0,0,0.001,127,49)\">A</text>\n",
       "  <text fill=\"#F9A500\" x=\"0\" y=\"0\" transform=\"matrix(0.55,0,0,0.001,125,48.95)\">G</text>\n",
       "  <text fill=\"#DD0000\" x=\"0\" y=\"0\" transform=\"matrix(0.65,0,0,0.407,126,48.9)\">T</text>\n",
       "  <text fill=\"#0000EE\" x=\"0\" y=\"0\" transform=\"matrix(0.59,0,0,0.591,125,28.55)\">C</text>\n",
       "  \n",
       "  <text fill=\"#0000EE\" x=\"0\" y=\"0\" transform=\"matrix(0.59,0,0,0.001,150,49)\">C</text>\n",
       "  <text fill=\"#F9A500\" x=\"0\" y=\"0\" transform=\"matrix(0.55,0,0,0.001,150,48.95)\">G</text>\n",
       "  <text fill=\"#DD0000\" x=\"0\" y=\"0\" transform=\"matrix(0.65,0,0,0.001,151,48.9)\">T</text>\n",
       "  <text fill=\"#00BB00\" x=\"0\" y=\"0\" transform=\"matrix(0.53,0,0,0.997,152,48.85)\">A</text>\n",
       "  \n",
       "  <text fill=\"#DD0000\" x=\"0\" y=\"0\" transform=\"matrix(0.65,0,0,0.001,176,49)\">T</text>\n",
       "  <text fill=\"#0000EE\" x=\"0\" y=\"0\" transform=\"matrix(0.59,0,0,0.201,175,48.95)\">C</text>\n",
       "  <text fill=\"#00BB00\" x=\"0\" y=\"0\" transform=\"matrix(0.53,0,0,0.350,177,38.9)\">A</text>\n",
       "  <text fill=\"#F9A500\" x=\"0\" y=\"0\" transform=\"matrix(0.55,0,0,0.448,175,21.4)\">G</text>\n",
       "  \n",
       " </g>\n",
       "</svg>"
      ],
      "text/plain": [
       "<IPython.core.display.SVG object>"
      ]
     },
     "metadata": {},
     "output_type": "display_data"
    },
    {
     "name": "stdout",
     "output_type": "stream",
     "text": [
      "Isl1\n"
     ]
    },
    {
     "data": {
      "image/svg+xml": [
       "<svg width=\"205\" height=\"50\">\n",
       " <g font-family=\"Arial\" font-weight=\"bold\" font-size=\"66.5\">\n",
       "  <text fill=\"#DD0000\" x=\"0\" y=\"0\" transform=\"matrix(0.65,0,0,0.080,1,49)\">T</text>\n",
       "  <text fill=\"#00BB00\" x=\"0\" y=\"0\" transform=\"matrix(0.53,0,0,0.136,2,45)\">A</text>\n",
       "  <text fill=\"#0000EE\" x=\"0\" y=\"0\" transform=\"matrix(0.59,0,0,0.161,0,38.2)\">C</text>\n",
       "  <text fill=\"#F9A500\" x=\"0\" y=\"0\" transform=\"matrix(0.55,0,0,0.623,0,30.15)\">G</text>\n",
       "  \n",
       "  <text fill=\"#F9A500\" x=\"0\" y=\"0\" transform=\"matrix(0.55,0,0,0.017,25,49)\">G</text>\n",
       "  <text fill=\"#00BB00\" x=\"0\" y=\"0\" transform=\"matrix(0.53,0,0,0.018,27,48.15)\">A</text>\n",
       "  <text fill=\"#DD0000\" x=\"0\" y=\"0\" transform=\"matrix(0.65,0,0,0.093,26,47.25)\">T</text>\n",
       "  <text fill=\"#0000EE\" x=\"0\" y=\"0\" transform=\"matrix(0.59,0,0,0.872,25,42.6)\">C</text>\n",
       "  \n",
       "  <text fill=\"#00BB00\" x=\"0\" y=\"0\" transform=\"matrix(0.53,0,0,0.001,52,49)\">A</text>\n",
       "  <text fill=\"#0000EE\" x=\"0\" y=\"0\" transform=\"matrix(0.59,0,0,0.001,50,48.95)\">C</text>\n",
       "  <text fill=\"#F9A500\" x=\"0\" y=\"0\" transform=\"matrix(0.55,0,0,0.001,50,48.9)\">G</text>\n",
       "  <text fill=\"#DD0000\" x=\"0\" y=\"0\" transform=\"matrix(0.65,0,0,0.997,51,48.85)\">T</text>\n",
       "  \n",
       "  <text fill=\"#0000EE\" x=\"0\" y=\"0\" transform=\"matrix(0.59,0,0,0.001,75,49)\">C</text>\n",
       "  <text fill=\"#F9A500\" x=\"0\" y=\"0\" transform=\"matrix(0.55,0,0,0.001,75,48.95)\">G</text>\n",
       "  <text fill=\"#DD0000\" x=\"0\" y=\"0\" transform=\"matrix(0.65,0,0,0.001,76,48.9)\">T</text>\n",
       "  <text fill=\"#00BB00\" x=\"0\" y=\"0\" transform=\"matrix(0.53,0,0,0.997,77,48.85)\">A</text>\n",
       "  \n",
       "  <text fill=\"#0000EE\" x=\"0\" y=\"0\" transform=\"matrix(0.59,0,0,0.001,100,49)\">C</text>\n",
       "  <text fill=\"#F9A500\" x=\"0\" y=\"0\" transform=\"matrix(0.55,0,0,0.001,100,48.95)\">G</text>\n",
       "  <text fill=\"#DD0000\" x=\"0\" y=\"0\" transform=\"matrix(0.65,0,0,0.001,101,48.9)\">T</text>\n",
       "  <text fill=\"#00BB00\" x=\"0\" y=\"0\" transform=\"matrix(0.53,0,0,0.997,102,48.85)\">A</text>\n",
       "  \n",
       "  <text fill=\"#00BB00\" x=\"0\" y=\"0\" transform=\"matrix(0.53,0,0,0.001,127,49)\">A</text>\n",
       "  <text fill=\"#0000EE\" x=\"0\" y=\"0\" transform=\"matrix(0.59,0,0,0.001,125,48.95)\">C</text>\n",
       "  <text fill=\"#F9A500\" x=\"0\" y=\"0\" transform=\"matrix(0.55,0,0,0.001,125,48.9)\">G</text>\n",
       "  <text fill=\"#DD0000\" x=\"0\" y=\"0\" transform=\"matrix(0.65,0,0,0.997,126,48.85)\">T</text>\n",
       "  \n",
       "  <text fill=\"#00BB00\" x=\"0\" y=\"0\" transform=\"matrix(0.53,0,0,0.001,152,49)\">A</text>\n",
       "  <text fill=\"#0000EE\" x=\"0\" y=\"0\" transform=\"matrix(0.59,0,0,0.003,150,48.95)\">C</text>\n",
       "  <text fill=\"#DD0000\" x=\"0\" y=\"0\" transform=\"matrix(0.65,0,0,0.137,151,48.8)\">T</text>\n",
       "  <text fill=\"#F9A500\" x=\"0\" y=\"0\" transform=\"matrix(0.55,0,0,0.859,150,41.95)\">G</text>\n",
       "  \n",
       "  <text fill=\"#DD0000\" x=\"0\" y=\"0\" transform=\"matrix(0.65,0,0,0.001,176,49)\">T</text>\n",
       "  <text fill=\"#0000EE\" x=\"0\" y=\"0\" transform=\"matrix(0.59,0,0,0.024,175,48.95)\">C</text>\n",
       "  <text fill=\"#00BB00\" x=\"0\" y=\"0\" transform=\"matrix(0.53,0,0,0.049,177,47.75)\">A</text>\n",
       "  <text fill=\"#F9A500\" x=\"0\" y=\"0\" transform=\"matrix(0.55,0,0,0.926,175,45.3)\">G</text>\n",
       "  \n",
       " </g>\n",
       "</svg>"
      ],
      "text/plain": [
       "<IPython.core.display.SVG object>"
      ]
     },
     "metadata": {},
     "output_type": "display_data"
    },
    {
     "name": "stdout",
     "output_type": "stream",
     "text": [
      "Bapx1(Homeobox)\n"
     ]
    },
    {
     "data": {
      "image/svg+xml": [
       "<svg width=\"205\" height=\"50\">\n",
       " <g font-family=\"Arial\" font-weight=\"bold\" font-size=\"66.5\">\n",
       "  <text fill=\"#0000EE\" x=\"0\" y=\"0\" transform=\"matrix(0.59,0,0,0.001,0,49)\">C</text>\n",
       "  <text fill=\"#DD0000\" x=\"0\" y=\"0\" transform=\"matrix(0.65,0,0,0.001,1,48.95)\">T</text>\n",
       "  <text fill=\"#00BB00\" x=\"0\" y=\"0\" transform=\"matrix(0.53,0,0,0.101,2,48.9)\">A</text>\n",
       "  <text fill=\"#F9A500\" x=\"0\" y=\"0\" transform=\"matrix(0.55,0,0,0.897,0,43.85)\">G</text>\n",
       "  \n",
       "  <text fill=\"#F9A500\" x=\"0\" y=\"0\" transform=\"matrix(0.55,0,0,0.001,25,49)\">G</text>\n",
       "  <text fill=\"#DD0000\" x=\"0\" y=\"0\" transform=\"matrix(0.65,0,0,0.001,26,48.95)\">T</text>\n",
       "  <text fill=\"#0000EE\" x=\"0\" y=\"0\" transform=\"matrix(0.59,0,0,0.170,25,48.9)\">C</text>\n",
       "  <text fill=\"#00BB00\" x=\"0\" y=\"0\" transform=\"matrix(0.53,0,0,0.828,27,40.4)\">A</text>\n",
       "  \n",
       "  <text fill=\"#00BB00\" x=\"0\" y=\"0\" transform=\"matrix(0.53,0,0,0.001,52,49)\">A</text>\n",
       "  <text fill=\"#DD0000\" x=\"0\" y=\"0\" transform=\"matrix(0.65,0,0,0.001,51,48.95)\">T</text>\n",
       "  <text fill=\"#0000EE\" x=\"0\" y=\"0\" transform=\"matrix(0.59,0,0,0.128,50,48.9)\">C</text>\n",
       "  <text fill=\"#F9A500\" x=\"0\" y=\"0\" transform=\"matrix(0.55,0,0,0.870,50,42.5)\">G</text>\n",
       "  \n",
       "  <text fill=\"#00BB00\" x=\"0\" y=\"0\" transform=\"matrix(0.53,0,0,0.001,77,49)\">A</text>\n",
       "  <text fill=\"#0000EE\" x=\"0\" y=\"0\" transform=\"matrix(0.59,0,0,0.007,75,48.95)\">C</text>\n",
       "  <text fill=\"#F9A500\" x=\"0\" y=\"0\" transform=\"matrix(0.55,0,0,0.104,75,48.6)\">G</text>\n",
       "  <text fill=\"#DD0000\" x=\"0\" y=\"0\" transform=\"matrix(0.65,0,0,0.888,76,43.4)\">T</text>\n",
       "  \n",
       "  <text fill=\"#0000EE\" x=\"0\" y=\"0\" transform=\"matrix(0.59,0,0,0.001,100,49)\">C</text>\n",
       "  <text fill=\"#DD0000\" x=\"0\" y=\"0\" transform=\"matrix(0.65,0,0,0.001,101,48.95)\">T</text>\n",
       "  <text fill=\"#00BB00\" x=\"0\" y=\"0\" transform=\"matrix(0.53,0,0,0.076,102,48.9)\">A</text>\n",
       "  <text fill=\"#F9A500\" x=\"0\" y=\"0\" transform=\"matrix(0.55,0,0,0.922,100,45.1)\">G</text>\n",
       "  \n",
       "  <text fill=\"#DD0000\" x=\"0\" y=\"0\" transform=\"matrix(0.65,0,0,0.144,126,49)\">T</text>\n",
       "  <text fill=\"#00BB00\" x=\"0\" y=\"0\" transform=\"matrix(0.53,0,0,0.211,127,41.8)\">A</text>\n",
       "  <text fill=\"#F9A500\" x=\"0\" y=\"0\" transform=\"matrix(0.55,0,0,0.233,125,31.25)\">G</text>\n",
       "  <text fill=\"#0000EE\" x=\"0\" y=\"0\" transform=\"matrix(0.59,0,0,0.412,125,19.6)\">C</text>\n",
       "  \n",
       "  <text fill=\"#00BB00\" x=\"0\" y=\"0\" transform=\"matrix(0.53,0,0,0.001,152,49)\">A</text>\n",
       "  <text fill=\"#F9A500\" x=\"0\" y=\"0\" transform=\"matrix(0.55,0,0,0.001,150,48.95)\">G</text>\n",
       "  <text fill=\"#0000EE\" x=\"0\" y=\"0\" transform=\"matrix(0.59,0,0,0.240,150,48.9)\">C</text>\n",
       "  <text fill=\"#DD0000\" x=\"0\" y=\"0\" transform=\"matrix(0.65,0,0,0.758,151,36.9)\">T</text>\n",
       "  \n",
       "  <text fill=\"#0000EE\" x=\"0\" y=\"0\" transform=\"matrix(0.59,0,0,0.086,175,49)\">C</text>\n",
       "  <text fill=\"#00BB00\" x=\"0\" y=\"0\" transform=\"matrix(0.53,0,0,0.103,177,44.7)\">A</text>\n",
       "  <text fill=\"#F9A500\" x=\"0\" y=\"0\" transform=\"matrix(0.55,0,0,0.108,175,39.55)\">G</text>\n",
       "  <text fill=\"#DD0000\" x=\"0\" y=\"0\" transform=\"matrix(0.65,0,0,0.703,176,34.15)\">T</text>\n",
       "  \n",
       " </g>\n",
       "</svg>"
      ],
      "text/plain": [
       "<IPython.core.display.SVG object>"
      ]
     },
     "metadata": {},
     "output_type": "display_data"
    },
    {
     "name": "stdout",
     "output_type": "stream",
     "text": [
      "ATHB24(ZFHD)\n"
     ]
    },
    {
     "data": {
      "image/svg+xml": [
       "<svg width=\"205\" height=\"50\">\n",
       " <g font-family=\"Arial\" font-weight=\"bold\" font-size=\"66.5\">\n",
       "  <text fill=\"#00BB00\" x=\"0\" y=\"0\" transform=\"matrix(0.53,0,0,0.001,2,49)\">A</text>\n",
       "  <text fill=\"#0000EE\" x=\"0\" y=\"0\" transform=\"matrix(0.59,0,0,0.001,0,48.95)\">C</text>\n",
       "  <text fill=\"#DD0000\" x=\"0\" y=\"0\" transform=\"matrix(0.65,0,0,0.001,1,48.9)\">T</text>\n",
       "  <text fill=\"#F9A500\" x=\"0\" y=\"0\" transform=\"matrix(0.55,0,0,0.997,0,48.85)\">G</text>\n",
       "  \n",
       "  <text fill=\"#00BB00\" x=\"0\" y=\"0\" transform=\"matrix(0.53,0,0,0.056,27,49)\">A</text>\n",
       "  <text fill=\"#0000EE\" x=\"0\" y=\"0\" transform=\"matrix(0.59,0,0,0.073,25,46.2)\">C</text>\n",
       "  <text fill=\"#F9A500\" x=\"0\" y=\"0\" transform=\"matrix(0.55,0,0,0.240,25,42.55)\">G</text>\n",
       "  <text fill=\"#DD0000\" x=\"0\" y=\"0\" transform=\"matrix(0.65,0,0,0.631,26,30.55)\">T</text>\n",
       "  \n",
       "  <text fill=\"#00BB00\" x=\"0\" y=\"0\" transform=\"matrix(0.53,0,0,0.001,52,49)\">A</text>\n",
       "  <text fill=\"#F9A500\" x=\"0\" y=\"0\" transform=\"matrix(0.55,0,0,0.001,50,48.95)\">G</text>\n",
       "  <text fill=\"#0000EE\" x=\"0\" y=\"0\" transform=\"matrix(0.59,0,0,0.057,50,48.9)\">C</text>\n",
       "  <text fill=\"#DD0000\" x=\"0\" y=\"0\" transform=\"matrix(0.65,0,0,0.941,51,46.05)\">T</text>\n",
       "  \n",
       "  <text fill=\"#0000EE\" x=\"0\" y=\"0\" transform=\"matrix(0.59,0,0,0.001,75,49)\">C</text>\n",
       "  <text fill=\"#DD0000\" x=\"0\" y=\"0\" transform=\"matrix(0.65,0,0,0.001,76,48.95)\">T</text>\n",
       "  <text fill=\"#F9A500\" x=\"0\" y=\"0\" transform=\"matrix(0.55,0,0,0.042,75,48.9)\">G</text>\n",
       "  <text fill=\"#00BB00\" x=\"0\" y=\"0\" transform=\"matrix(0.53,0,0,0.956,77,46.8)\">A</text>\n",
       "  \n",
       "  <text fill=\"#0000EE\" x=\"0\" y=\"0\" transform=\"matrix(0.59,0,0,0.001,100,49)\">C</text>\n",
       "  <text fill=\"#F9A500\" x=\"0\" y=\"0\" transform=\"matrix(0.55,0,0,0.001,100,48.95)\">G</text>\n",
       "  <text fill=\"#DD0000\" x=\"0\" y=\"0\" transform=\"matrix(0.65,0,0,0.001,101,48.9)\">T</text>\n",
       "  <text fill=\"#00BB00\" x=\"0\" y=\"0\" transform=\"matrix(0.53,0,0,0.997,102,48.85)\">A</text>\n",
       "  \n",
       "  <text fill=\"#00BB00\" x=\"0\" y=\"0\" transform=\"matrix(0.53,0,0,0.001,127,49)\">A</text>\n",
       "  <text fill=\"#0000EE\" x=\"0\" y=\"0\" transform=\"matrix(0.59,0,0,0.001,125,48.95)\">C</text>\n",
       "  <text fill=\"#F9A500\" x=\"0\" y=\"0\" transform=\"matrix(0.55,0,0,0.122,125,48.9)\">G</text>\n",
       "  <text fill=\"#DD0000\" x=\"0\" y=\"0\" transform=\"matrix(0.65,0,0,0.876,126,42.8)\">T</text>\n",
       "  \n",
       "  <text fill=\"#00BB00\" x=\"0\" y=\"0\" transform=\"matrix(0.53,0,0,0.001,152,49)\">A</text>\n",
       "  <text fill=\"#0000EE\" x=\"0\" y=\"0\" transform=\"matrix(0.59,0,0,0.047,150,48.95)\">C</text>\n",
       "  <text fill=\"#F9A500\" x=\"0\" y=\"0\" transform=\"matrix(0.55,0,0,0.053,150,46.6)\">G</text>\n",
       "  <text fill=\"#DD0000\" x=\"0\" y=\"0\" transform=\"matrix(0.65,0,0,0.899,151,43.95)\">T</text>\n",
       "  \n",
       "  <text fill=\"#0000EE\" x=\"0\" y=\"0\" transform=\"matrix(0.59,0,0,0.001,175,49)\">C</text>\n",
       "  <text fill=\"#DD0000\" x=\"0\" y=\"0\" transform=\"matrix(0.65,0,0,0.001,176,48.95)\">T</text>\n",
       "  <text fill=\"#F9A500\" x=\"0\" y=\"0\" transform=\"matrix(0.55,0,0,0.056,175,48.9)\">G</text>\n",
       "  <text fill=\"#00BB00\" x=\"0\" y=\"0\" transform=\"matrix(0.53,0,0,0.942,177,46.1)\">A</text>\n",
       "  \n",
       " </g>\n",
       "</svg>"
      ],
      "text/plain": [
       "<IPython.core.display.SVG object>"
      ]
     },
     "metadata": {},
     "output_type": "display_data"
    }
   ],
   "source": [
    "# Logos for HOMER\n",
    "print('Top sequence logos outputted by HOMER for ISL1 dataset: \\n')\n",
    "print('GATA2')\n",
    "display(SVG('homer-results/isl1/homerResults/motif1.logo.svg'))\n",
    "\n",
    "print('ISL2')\n",
    "display(SVG('homer-results/isl1/homerResults/motif2.logo.svg'))\n",
    "\n",
    "print('TEAD3')\n",
    "display(SVG('homer-results/isl1/homerResults/motif3.logo.svg'))\n",
    "\n",
    "print('MEIS2')\n",
    "display(SVG('homer-results/isl1/homerResults/motif4.logo.svg'))\n",
    "\n",
    "print('Isl1')\n",
    "display(SVG('homer-results/isl1/homerResults/motif5.logo.svg'))\n",
    "\n",
    "print('Bapx1(Homeobox)')\n",
    "display(SVG('homer-results/isl1/homerResults/motif6.logo.svg'))\n",
    "\n",
    "print('ATHB24(ZFHD)')\n",
    "display(SVG('homer-results/isl1/homerResults/motif7.logo.svg'))"
   ]
  },
  {
   "cell_type": "markdown",
   "id": "4891f511",
   "metadata": {},
   "source": [
    "***Sequence Logos From Pyxis For ISL1 Dataset:***\n",
    "\n",
    "| Name of Motif | Sequence Logo |\n",
    "| :---: | :-----------------: |\n",
    "| NKX25_MOUSE.H11MO.0.A | <img src=\"../NKX25_MOUSE.H11MO.0.A_pyxis_logo.png\" alt=\"NKX25_isl1_pyxis_logo\" width=\"250\"/> |\n",
    "| ISL1_MOUSE.H11MO.0.A | <img src=\"../ISL1_MOUSE.H11MO.0.A_pyxis_logo.png\" alt=\"ISL1_isl1_pyxis_logo\" width=\"250\"/> |\n",
    "| LHX3_MOUSE.H11MO.0.C | <img src=\"../LHX3_MOUSE.H11MO.0.C_pyxis_logo.png\" alt=\"LHX3_isl1_pyxis_logo\" width=\"250\"/> |\n",
    "| BACH2_HUMAN.H11MO.0.A | <img src=\"../BACH2_HUMAN.H11MO.0.A_pyxis_logo.png\" alt=\"BACH2_isl1_pyxis_logo\" width=\"250\"/> |\n",
    "| NKX22_MOUSE.H11MO.0.A | <img src=\"../NKX22_MOUSE.H11MO.0.A_pyxis_logo.png\" alt=\"NKX22_isl1_pyxis_logo\" width=\"250\"/> |\n",
    "| KAISO_HUMAN.H11MO.1.A | <img src=\"../KAISO_HUMAN.H11MO.1.A_pyxis_logo.png\" alt=\"KAISO_isl1_pyxis_logo\" width=\"250\"/> |\n",
    "| MLX_HUMAN.H11MO.0.D | <img src=\"../MLX_HUMAN.H11MO.0.D_pyxis_logo.png\" alt=\"MLX_isl1_pyxis_logo\" width=\"250\"/> |\n",
    "| ALX3_HUMAN.H11MO.0.D | <img src=\"../ALX3_HUMAN.H11MO.0.D_pyxis_logo.png\" alt=\"ALX3_isl1_pyxis_logo\" width=\"250\"/> |\n",
    "| GATA4_MOUSE.H11MO.0.A | <img src=\"../GATA4_MOUSE.H11MO.0.A_pyxis_logo.png\" alt=\"GATA4_isl1_pyxis_logo\" width=\"250\"/> |\n",
    "| ELK1_HUMAN.H11MO.0.B | <img src=\"../ELK1_HUMAN.H11MO.0.B_pyxis_logo.png\" alt=\"ELK1_isl1_pyxis_logo\" width=\"250\"/> |\n",
    "\n",
    "Since I provided motifs from the source paper for the ISL1 dataset ([The multi-lineage transcription factor ISL1 controls cardiomyocyte cell fate through interaction with NKX2.5](https://www.ncbi.nlm.nih.gov/pmc/articles/PMC10679653/)) as a reference for what we expect to find significant with `pyxis`, we have a sequence logo that actually matches between both `pyxis` and `findMotifsGenome.pl` this time compared to the example test files (ISL1). There are also other motifs we found significant that were also generated by HOMER (NKX25) which did not end up in the top 10 list, but were still outputted as sequence logos lower on the list. Overall, the results we get from enrichment with `pyxis` match similar enrichment significance seen in Figure 3D of the paper."
   ]
  },
  {
   "cell_type": "markdown",
   "id": "9fe7ecd9",
   "metadata": {},
   "source": [
    "## II. Big O Behavior"
   ]
  },
  {
   "cell_type": "markdown",
   "id": "c26a09b7",
   "metadata": {},
   "source": [
    "The timeit commands for the 20 pseudopeak files are divided into 4 per cell for both tools to ensure faster execution of the command. The suffix of the pseudo.bed file (i.e. pseudo**1**.bed, pseudo**2**.bed, etc.) multiplied by 5 indicate how many peaks are in that file."
   ]
  },
  {
   "cell_type": "markdown",
   "id": "fb2ea6a1",
   "metadata": {},
   "source": [
    "### Pyxis"
   ]
  },
  {
   "cell_type": "code",
   "execution_count": 20,
   "id": "39298a30",
   "metadata": {},
   "outputs": [
    {
     "name": "stdout",
     "output_type": "stream",
     "text": [
      "Runtime for pseudo peak file 1: \n",
      "1 loop, best of 5: 2.82 sec per loop\n",
      "Runtime for pseudo peak file 2: \n",
      "1 loop, best of 5: 2.54 sec per loop\n",
      "Runtime for pseudo peak file 3: \n",
      "1 loop, best of 5: 2.48 sec per loop\n",
      "Runtime for pseudo peak file 4: \n",
      "1 loop, best of 5: 2.46 sec per loop\n"
     ]
    }
   ],
   "source": [
    "%%bash\n",
    "DIR=`cat scriptpath.txt`\n",
    "export PATH=$PATH:$DIR\n",
    "\n",
    "# All 20 pseudo peak files will be ran with the same isl1.pwms as used before, as well as a reference genome file pseudo.fa \n",
    "# which contains 10 chromosomes, all with 200 bp.\n",
    "echo \"Runtime for pseudo peak file 1: \"\n",
    "python -m timeit -s 'import os' 'os.system(\"pyxis analysis/pseudopeaks/pseudo1.bed analysis/pseudo.fa benchmark/isl1.pwms> /dev/null\")'\n",
    "echo \"Runtime for pseudo peak file 2: \"\n",
    "python -m timeit -s 'import os' 'os.system(\"pyxis analysis/pseudopeaks/pseudo2.bed analysis/pseudo.fa benchmark/isl1.pwms> /dev/null\")'\n",
    "echo \"Runtime for pseudo peak file 3: \"\n",
    "python -m timeit -s 'import os' 'os.system(\"pyxis analysis/pseudopeaks/pseudo3.bed analysis/pseudo.fa benchmark/isl1.pwms> /dev/null\")'\n",
    "echo \"Runtime for pseudo peak file 4: \"\n",
    "python -m timeit -s 'import os' 'os.system(\"pyxis analysis/pseudopeaks/pseudo4.bed analysis/pseudo.fa benchmark/isl1.pwms> /dev/null\")'"
   ]
  },
  {
   "cell_type": "code",
   "execution_count": 21,
   "id": "1a9e3c50",
   "metadata": {},
   "outputs": [
    {
     "name": "stdout",
     "output_type": "stream",
     "text": [
      "Runtime for pseudo peak file 5: \n",
      "1 loop, best of 5: 2.53 sec per loop\n",
      "Runtime for pseudo peak file 6: \n",
      "1 loop, best of 5: 2.47 sec per loop\n",
      "Runtime for pseudo peak file 7: \n",
      "1 loop, best of 5: 2.48 sec per loop\n",
      "Runtime for pseudo peak file 8: \n",
      "1 loop, best of 5: 2.56 sec per loop\n"
     ]
    }
   ],
   "source": [
    "%%bash\n",
    "DIR=`cat scriptpath.txt`\n",
    "export PATH=$PATH:$DIR\n",
    "\n",
    "# Big O for pyxis (cont.)\n",
    "echo \"Runtime for pseudo peak file 5: \"\n",
    "python -m timeit -s 'import os' 'os.system(\"pyxis analysis/pseudopeaks/pseudo5.bed analysis/pseudo.fa benchmark/isl1.pwms> /dev/null\")'\n",
    "echo \"Runtime for pseudo peak file 6: \"\n",
    "python -m timeit -s 'import os' 'os.system(\"pyxis analysis/pseudopeaks/pseudo6.bed analysis/pseudo.fa benchmark/isl1.pwms> /dev/null\")'\n",
    "echo \"Runtime for pseudo peak file 7: \"\n",
    "python -m timeit -s 'import os' 'os.system(\"pyxis analysis/pseudopeaks/pseudo7.bed analysis/pseudo.fa benchmark/isl1.pwms> /dev/null\")'\n",
    "echo \"Runtime for pseudo peak file 8: \"\n",
    "python -m timeit -s 'import os' 'os.system(\"pyxis analysis/pseudopeaks/pseudo8.bed analysis/pseudo.fa benchmark/isl1.pwms> /dev/null\")'"
   ]
  },
  {
   "cell_type": "code",
   "execution_count": 22,
   "id": "32f012de",
   "metadata": {},
   "outputs": [
    {
     "name": "stdout",
     "output_type": "stream",
     "text": [
      "Runtime for pseudo peak file 9: \n",
      "1 loop, best of 5: 2.6 sec per loop\n",
      "Runtime for pseudo peak file 10: \n",
      "1 loop, best of 5: 2.56 sec per loop\n",
      "Runtime for pseudo peak file 11: \n",
      "1 loop, best of 5: 2.61 sec per loop\n",
      "Runtime for pseudo peak file 12: \n",
      "1 loop, best of 5: 2.57 sec per loop\n"
     ]
    }
   ],
   "source": [
    "%%bash\n",
    "DIR=`cat scriptpath.txt`\n",
    "export PATH=$PATH:$DIR\n",
    "\n",
    "# Big O for pyxis (cont.)\n",
    "echo \"Runtime for pseudo peak file 9: \"\n",
    "python -m timeit -s 'import os' 'os.system(\"pyxis analysis/pseudopeaks/pseudo9.bed analysis/pseudo.fa benchmark/isl1.pwms> /dev/null\")'\n",
    "echo \"Runtime for pseudo peak file 10: \"\n",
    "python -m timeit -s 'import os' 'os.system(\"pyxis analysis/pseudopeaks/pseudo10.bed analysis/pseudo.fa benchmark/isl1.pwms> /dev/null\")'\n",
    "echo \"Runtime for pseudo peak file 11: \"\n",
    "python -m timeit -s 'import os' 'os.system(\"pyxis analysis/pseudopeaks/pseudo11.bed analysis/pseudo.fa benchmark/isl1.pwms> /dev/null\")'\n",
    "echo \"Runtime for pseudo peak file 12: \"\n",
    "python -m timeit -s 'import os' 'os.system(\"pyxis analysis/pseudopeaks/pseudo12.bed analysis/pseudo.fa benchmark/isl1.pwms> /dev/null\")'"
   ]
  },
  {
   "cell_type": "code",
   "execution_count": 23,
   "id": "42b376d8",
   "metadata": {},
   "outputs": [
    {
     "name": "stdout",
     "output_type": "stream",
     "text": [
      "Runtime for pseudo peak file 13: \n",
      "1 loop, best of 5: 2.63 sec per loop\n",
      "Runtime for pseudo peak file 14: \n",
      "1 loop, best of 5: 2.65 sec per loop\n",
      "Runtime for pseudo peak file 15: \n",
      "1 loop, best of 5: 2.77 sec per loop\n",
      "Runtime for pseudo peak file 16: \n",
      "1 loop, best of 5: 2.61 sec per loop\n"
     ]
    }
   ],
   "source": [
    "%%bash\n",
    "DIR=`cat scriptpath.txt`\n",
    "export PATH=$PATH:$DIR\n",
    "\n",
    "# Big O for pyxis (cont.)\n",
    "echo \"Runtime for pseudo peak file 13: \"\n",
    "python -m timeit -s 'import os' 'os.system(\"pyxis analysis/pseudopeaks/pseudo13.bed analysis/pseudo.fa benchmark/isl1.pwms> /dev/null\")'\n",
    "echo \"Runtime for pseudo peak file 14: \"\n",
    "python -m timeit -s 'import os' 'os.system(\"pyxis analysis/pseudopeaks/pseudo14.bed analysis/pseudo.fa benchmark/isl1.pwms> /dev/null\")'\n",
    "echo \"Runtime for pseudo peak file 15: \"\n",
    "python -m timeit -s 'import os' 'os.system(\"pyxis analysis/pseudopeaks/pseudo15.bed analysis/pseudo.fa benchmark/isl1.pwms> /dev/null\")'\n",
    "echo \"Runtime for pseudo peak file 16: \"\n",
    "python -m timeit -s 'import os' 'os.system(\"pyxis analysis/pseudopeaks/pseudo16.bed analysis/pseudo.fa benchmark/isl1.pwms> /dev/null\")'"
   ]
  },
  {
   "cell_type": "code",
   "execution_count": 5,
   "id": "08223eae",
   "metadata": {},
   "outputs": [
    {
     "name": "stdout",
     "output_type": "stream",
     "text": [
      "Runtime for pseudo peak file 17: \n",
      "1 loop, best of 5: 2.93 sec per loop\n",
      "Runtime for pseudo peak file 18: \n",
      "1 loop, best of 5: 2.79 sec per loop\n",
      "Runtime for pseudo peak file 19: \n",
      "1 loop, best of 5: 2.79 sec per loop\n",
      "Runtime for pseudo peak file 20: \n",
      "1 loop, best of 5: 2.77 sec per loop\n"
     ]
    }
   ],
   "source": [
    "%%bash\n",
    "DIR=`cat scriptpath.txt`\n",
    "export PATH=$PATH:$DIR\n",
    "\n",
    "# Big O for pyxis (cont.)\n",
    "echo \"Runtime for pseudo peak file 17: \"\n",
    "python -m timeit -s 'import os' 'os.system(\"pyxis analysis/pseudopeaks/pseudo17.bed analysis/pseudo.fa benchmark/isl1.pwms> /dev/null\")'\n",
    "echo \"Runtime for pseudo peak file 18: \"\n",
    "python -m timeit -s 'import os' 'os.system(\"pyxis analysis/pseudopeaks/pseudo18.bed analysis/pseudo.fa benchmark/isl1.pwms> /dev/null\")'\n",
    "echo \"Runtime for pseudo peak file 19: \"\n",
    "python -m timeit -s 'import os' 'os.system(\"pyxis analysis/pseudopeaks/pseudo19.bed analysis/pseudo.fa benchmark/isl1.pwms> /dev/null\")'\n",
    "echo \"Runtime for pseudo peak file 20: \"\n",
    "python -m timeit -s 'import os' 'os.system(\"pyxis analysis/pseudopeaks/pseudo20.bed analysis/pseudo.fa benchmark/isl1.pwms> /dev/null\")'"
   ]
  },
  {
   "cell_type": "markdown",
   "id": "3328966b",
   "metadata": {},
   "source": [
    "### HOMER"
   ]
  },
  {
   "cell_type": "code",
   "execution_count": 7,
   "id": "5e204249",
   "metadata": {},
   "outputs": [
    {
     "name": "stdout",
     "output_type": "stream",
     "text": [
      "Runtime for pseudo peak file 1: \n",
      "1 loop, best of 1: 97.7 sec per loop\n",
      "Runtime for pseudo peak file 2: \n",
      "1 loop, best of 1: 138 sec per loop\n",
      "Runtime for pseudo peak file 3: \n",
      "1 loop, best of 1: 110 sec per loop\n",
      "Runtime for pseudo peak file 4: \n",
      "1 loop, best of 1: 172 sec per loop\n"
     ]
    },
    {
     "name": "stderr",
     "output_type": "stream",
     "text": [
     ]
    }
   ],
   "source": [
    "%%bash\n",
    "# All 20 pseudo peak files will be ran with the same isl1.pwms as used before, as well as a reference genome file pseudo.fa \n",
    "# which contains 10 chromosomes, all with 200 bp.\n",
    "echo \"Runtime for pseudo peak file 1: \"\n",
    "python -m timeit -r 1 -s 'import os' 'os.system(\"findMotifsGenome.pl analysis/pseudopeaks/pseudo1.bed analysis/pseudo.fa homer-results/pseudopeaks > /dev/null\")'\n",
    "echo \"Runtime for pseudo peak file 2: \"\n",
    "python -m timeit -r 1 -s 'import os' 'os.system(\"findMotifsGenome.pl analysis/pseudopeaks/pseudo2.bed analysis/pseudo.fa homer-results/pseudopeaks > /dev/null\")'\n",
    "echo \"Runtime for pseudo peak file 3: \"\n",
    "python -m timeit -r 1 -s 'import os' 'os.system(\"findMotifsGenome.pl analysis/pseudopeaks/pseudo3.bed analysis/pseudo.fa homer-results/pseudopeaks > /dev/null\")'\n",
    "echo \"Runtime for pseudo peak file 4: \"\n",
    "python -m timeit -r 1 -s 'import os' 'os.system(\"findMotifsGenome.pl analysis/pseudopeaks/pseudo4.bed analysis/pseudo.fa homer-results/pseudopeaks > /dev/null\")'"
   ]
  },
  {
   "cell_type": "code",
   "execution_count": 9,
   "id": "61408562",
   "metadata": {},
   "outputs": [
    {
     "name": "stdout",
     "output_type": "stream",
     "text": [
      "Runtime for pseudo peak file 5: \n",
      "1 loop, best of 1: 130 sec per loop\n",
      "Runtime for pseudo peak file 6: \n",
      "1 loop, best of 1: 160 sec per loop\n",
      "Runtime for pseudo peak file 7: \n",
      "1 loop, best of 1: 159 sec per loop\n",
      "Runtime for pseudo peak file 8: \n",
      "1 loop, best of 1: 183 sec per loop\n"
     ]
    },
    {
     "name": "stderr",
     "output_type": "stream",
     "text": [
     ]
    }
   ],
   "source": [
    "%%bash\n",
    "echo \"Runtime for pseudo peak file 5: \"\n",
    "python -m timeit -r 1 -s 'import os' 'os.system(\"findMotifsGenome.pl analysis/pseudopeaks/pseudo5.bed analysis/pseudo.fa homer-results/pseudopeaks > /dev/null\")'\n",
    "echo \"Runtime for pseudo peak file 6: \"\n",
    "python -m timeit -r 1 -s 'import os' 'os.system(\"findMotifsGenome.pl analysis/pseudopeaks/pseudo6.bed analysis/pseudo.fa homer-results/pseudopeaks > /dev/null\")'\n",
    "echo \"Runtime for pseudo peak file 7: \"\n",
    "python -m timeit -r 1 -s 'import os' 'os.system(\"findMotifsGenome.pl analysis/pseudopeaks/pseudo7.bed analysis/pseudo.fa homer-results/pseudopeaks > /dev/null\")'\n",
    "echo \"Runtime for pseudo peak file 8: \"\n",
    "python -m timeit -r 1 -s 'import os' 'os.system(\"findMotifsGenome.pl analysis/pseudopeaks/pseudo8.bed analysis/pseudo.fa homer-results/pseudopeaks > /dev/null\")'"
   ]
  },
  {
   "cell_type": "code",
   "execution_count": 10,
   "id": "af2b47c1",
   "metadata": {},
   "outputs": [
    {
     "name": "stdout",
     "output_type": "stream",
     "text": [
      "Runtime for pseudo peak file 9: \n",
      "1 loop, best of 1: 172 sec per loop\n",
      "Runtime for pseudo peak file 10: \n",
      "1 loop, best of 1: 148 sec per loop\n",
      "Runtime for pseudo peak file 11: \n",
      "1 loop, best of 1: 166 sec per loop\n",
      "Runtime for pseudo peak file 12: \n",
      "1 loop, best of 1: 191 sec per loop\n"
     ]
    },
    {
     "name": "stderr",
     "output_type": "stream",
     "text": [
     ]
    }
   ],
   "source": [
    "%%bash\n",
    "echo \"Runtime for pseudo peak file 9: \"\n",
    "python -m timeit -r 1 -s 'import os' 'os.system(\"findMotifsGenome.pl analysis/pseudopeaks/pseudo9.bed analysis/pseudo.fa homer-results/pseudopeaks > /dev/null\")'\n",
    "echo \"Runtime for pseudo peak file 10: \"\n",
    "python -m timeit -r 1 -s 'import os' 'os.system(\"findMotifsGenome.pl analysis/pseudopeaks/pseudo10.bed analysis/pseudo.fa homer-results/pseudopeaks > /dev/null\")'\n",
    "echo \"Runtime for pseudo peak file 11: \"\n",
    "python -m timeit -r 1 -s 'import os' 'os.system(\"findMotifsGenome.pl analysis/pseudopeaks/pseudo11.bed analysis/pseudo.fa homer-results/pseudopeaks > /dev/null\")'\n",
    "echo \"Runtime for pseudo peak file 12: \"\n",
    "python -m timeit -r 1 -s 'import os' 'os.system(\"findMotifsGenome.pl analysis/pseudopeaks/pseudo12.bed analysis/pseudo.fa homer-results/pseudopeaks > /dev/null\")'"
   ]
  },
  {
   "cell_type": "code",
   "execution_count": 11,
   "id": "c73742be",
   "metadata": {},
   "outputs": [
    {
     "name": "stdout",
     "output_type": "stream",
     "text": [
      "Runtime for pseudo peak file 13: \n",
      "1 loop, best of 1: 194 sec per loop\n",
      "Runtime for pseudo peak file 14: \n",
      "1 loop, best of 1: 175 sec per loop\n",
      "Runtime for pseudo peak file 15: \n",
      "1 loop, best of 1: 125 sec per loop\n",
      "Runtime for pseudo peak file 16: \n",
      "1 loop, best of 1: 169 sec per loop\n"
     ]
    },
    {
     "name": "stderr",
     "output_type": "stream",
     "text": [
     ]
    }
   ],
   "source": [
    "%%bash\n",
    "echo \"Runtime for pseudo peak file 13: \"\n",
    "python -m timeit -r 1 -s 'import os' 'os.system(\"findMotifsGenome.pl analysis/pseudopeaks/pseudo13.bed analysis/pseudo.fa homer-results/pseudopeaks > /dev/null\")'\n",
    "echo \"Runtime for pseudo peak file 14: \"\n",
    "python -m timeit -r 1 -s 'import os' 'os.system(\"findMotifsGenome.pl analysis/pseudopeaks/pseudo14.bed analysis/pseudo.fa homer-results/pseudopeaks > /dev/null\")'\n",
    "echo \"Runtime for pseudo peak file 15: \"\n",
    "python -m timeit -r 1 -s 'import os' 'os.system(\"findMotifsGenome.pl analysis/pseudopeaks/pseudo15.bed analysis/pseudo.fa homer-results/pseudopeaks > /dev/null\")'\n",
    "echo \"Runtime for pseudo peak file 16: \"\n",
    "python -m timeit -r 1 -s 'import os' 'os.system(\"findMotifsGenome.pl analysis/pseudopeaks/pseudo16.bed analysis/pseudo.fa homer-results/pseudopeaks > /dev/null\")'"
   ]
  },
  {
   "cell_type": "code",
   "execution_count": 12,
   "id": "bc8c2f8f",
   "metadata": {},
   "outputs": [
   ],
   "source": [
    "%%bash\n",
    "echo \"Runtime for pseudo peak file 17: \"\n",
    "python -m timeit -r 1 -s 'import os' 'os.system(\"findMotifsGenome.pl analysis/pseudopeaks/pseudo17.bed analysis/pseudo.fa homer-results/pseudopeaks > /dev/null\")'\n",
    "echo \"Runtime for pseudo peak file 18: \"\n",
    "python -m timeit -r 1 -s 'import os' 'os.system(\"findMotifsGenome.pl analysis/pseudopeaks/pseudo18.bed analysis/pseudo.fa homer-results/pseudopeaks> /dev/null\")'\n",
    "echo \"Runtime for pseudo peak file 19: \"\n",
    "python -m timeit -r 1 -s 'import os' 'os.system(\"findMotifsGenome.pl analysis/pseudopeaks/pseudo19.bed analysis/pseudo.fa homer-results/pseudopeaks > /dev/null\")'\n",
    "echo \"Runtime for pseudo peak file 20: \"\n",
    "python -m timeit -r 1 -s 'import os' 'os.system(\"findMotifsGenome.pl analysis/pseudopeaks/pseudo20.bed analysis/pseudo.fa homer-results/pseudopeaks > /dev/null\")'"
   ]
  },
  {
   "cell_type": "markdown",
   "id": "ad7ff7eb",
   "metadata": {},
   "source": [
    "### Visualizations"
   ]
  },
  {
   "cell_type": "code",
   "execution_count": 25,
   "id": "2b558076",
   "metadata": {},
   "outputs": [
    {
     "data": {
      "image/png": "[encoded data removed]",
      "text/plain": [
       "<Figure size 576x432 with 1 Axes>"
      ]
     },
     "metadata": {
      "needs_background": "light"
     },
     "output_type": "display_data"
    }
   ],
   "source": [
    "# Big O Behavior of number of peaks vs. CPU time in seconds\n",
    "# mean runtimes taken from above commands\n",
    "pyxis_runtimes = [2.82, 2.54, 2.48, 2.46, 2.53, 2.47, 2.48, 2.56, 2.6, 2.56, 2.61, 2.57, 2.63, 2.65, 2.77, 2.61, 2.93, 2.79, 2.79, 2.77]\n",
    "homer_runtimes = [97.7, 138, 110, 172, 130, 160, 159, 183, 172, 148, 166, 191, 194, 175, 125, 169, 154, 132, 118, 182]\n",
    "\n",
    "# number of peaks in dataset\n",
    "num_peaks = [5, 10, 15, 20, 25, 30, 35, 40, 45, 50, 55, 60, 65, 70, 75, 80, 85, 90, 95, 100]\n",
    "\n",
    "plt.figure(figsize=(8, 6))\n",
    "# add annotation labels\n",
    "#for i, (xi, yi) in enumerate(zip(num_peaks, homer_runtimes)):\n",
    "#    plt.annotate(f'({xi}, {yi})', (xi, yi), textcoords=\"offset points\", xytext=(0, 10), ha='center')\n",
    "\n",
    "# pyxis runtime\n",
    "plt.plot(num_peaks, pyxis_runtimes, marker='o', linestyle='-')\n",
    "\n",
    "# HOMER runtime\n",
    "plt.plot(num_peaks, homer_runtimes, marker='o')\n",
    "\n",
    "# add title, labels and legend\n",
    "plt.title('Big O Behavior of Pyxis vs. HOMER')\n",
    "plt.xlabel('Number of Peaks')\n",
    "plt.ylabel('CPU Time (s)')\n",
    "plt.legend(['Pyxis', 'HOMER'])\n",
    "\n",
    "# save figure\n",
    "plt.savefig('analysis/big_o_comparison.png')\n",
    "\n",
    "plt.show()"
   ]
  },
  {
   "cell_type": "code",
   "execution_count": 69,
   "id": "cdd36972",
   "metadata": {},
   "outputs": [
    {
     "data": {
      "image/png": "[encoded data removed]",
      "text/plain": [
       "<Figure size 1296x648 with 1 Axes>"
      ]
     },
     "metadata": {
      "needs_background": "light"
     },
     "output_type": "display_data"
    }
   ],
   "source": [
    "# Plotting Runtimes of Different Functions\n",
    "\n",
    "# creating the dataset\n",
    "data = {'ReadBED':183, 'ReadPWMS':247, 'WriteFastaSeq':8.87, 'ComputeNucFreqs':23.9, 'RandomBkSequence':88.2, \n",
    "        'ScoreSeq':1.48, 'ReverseComplement':6.29, 'FindMaxScore':141, 'RandomSequence':23.1, 'GetThreshold':637,\n",
    "        'ComputeEnrichment':2150, 'pwm_to_ppm':29.5}\n",
    "functions = list(data.keys())\n",
    "runtimes = list(data.values())\n",
    "\n",
    "fig, ax = plt.subplots(figsize =(18, 9))\n",
    "# horizontal bar plot\n",
    "ax.barh(functions, runtimes)\n",
    " \n",
    "# remove axes splines\n",
    "for s in ['top', 'bottom', 'left', 'right']:\n",
    "    ax.spines[s].set_visible(False)\n",
    "\n",
    "# remove x, y Ticks\n",
    "ax.xaxis.set_ticks_position('none')\n",
    "ax.yaxis.set_ticks_position('none')\n",
    " \n",
    "# Add padding between axes and labels\n",
    "ax.xaxis.set_tick_params(pad = 5)\n",
    "ax.yaxis.set_tick_params(pad = 10)\n",
    " \n",
    "# Add x, y gridlines\n",
    "ax.grid(b = True, color ='grey',\n",
    "        linestyle ='-.', linewidth = 0.5,\n",
    "        alpha = 0.2)\n",
    "\n",
    "# error bars\n",
    "#error_bars = [9.18, 6.29, 0.139, 0.709, 1.15, 0.0145, 0.0468, 2, 2.67, 3.14, 280, 0.496]\n",
    "#ax.errorbar(runtimes, functions, xerr=error_bars, color=\"black\", linestyle='', solid_capstyle='projecting', capsize=5)\n",
    "\n",
    "# show top values \n",
    "ax.invert_yaxis()\n",
    "    \n",
    "# add annotation to bars\n",
    "for i in ax.patches:\n",
    "    plt.text(i.get_width()+0.2, i.get_y()+0.5, \n",
    "             str(round((i.get_width()), 2)),\n",
    "             fontsize = 10,\n",
    "             color ='grey')\n",
    "\n",
    "ax.set_title('Mean Runtime Per Loop of Pyxis Myutils.py Functions ',\n",
    "             loc ='center', size=14)\n",
    "ax.set_xlabel('Microseconds', size=12, labelpad=20)\n",
    "ax.set_ylabel('Myutils.py Functions', size=12, labelpad=20)\n",
    "\n",
    "# save figure\n",
    "plt.savefig('analysis/function_runtimes.png')\n",
    "\n",
    "plt.show()"
   ]
  },
  {
   "cell_type": "code",
   "execution_count": 138,
   "id": "0b0bc1c0",
   "metadata": {},
   "outputs": [
    {
     "data": {
      "image/png": "[encoded data removed]",
      "text/plain": [
       "<Figure size 1080x648 with 1 Axes>"
      ]
     },
     "metadata": {
      "needs_background": "light"
     },
     "output_type": "display_data"
    }
   ],
   "source": [
    "# Plotting Peak Memory Usage of pyxis vs. HOMER commands\n",
    "\n",
    "# data definition\n",
    "data = {'Example Data': [17959672, 167048],\n",
    "        'ISL1': [17966576, 1146152]}\n",
    "df = pd.DataFrame(data,columns=['Example Data', 'ISL1'], index = ['Pyxis', 'HOMER'])\n",
    "\n",
    "# multiple bar chart\n",
    "colors = ['#FCA487', '#5872FF']\n",
    "df.plot.bar(figsize=(15,9), fontsize=12, color=colors,\n",
    "            title='Peak Memory Usage in Example and ISL1 Datsets for Pyxis vs. HOMER', ylim=(0, 19000000))\n",
    "plt.rcParams.update({'font.size': 14})\n",
    "plt.tick_params(axis='x', labelrotation=0)\n",
    "plt.savefig('analysis/peak_memory.png')\n",
    "plt.xlabel(xlabel='Tool', labelpad=12)\n",
    "plt.ylabel(ylabel='Vmpeak - Peak Memory Used (Kilobytes)', labelpad=12)\n",
    "\n",
    "# display the plot\n",
    "plt.show()"
   ]
  }
 ],
 "metadata": {
  "kernelspec": {
   "display_name": "Python 3 (ipykernel)",
   "language": "python",
   "name": "python3"
  },
  "language_info": {
   "codemirror_mode": {
    "name": "ipython",
    "version": 3
   },
   "file_extension": ".py",
   "mimetype": "text/x-python",
   "name": "python",
   "nbconvert_exporter": "python",
   "pygments_lexer": "ipython3",
   "version": "3.9.5"
  }
 },
 "nbformat": 4,
 "nbformat_minor": 5
}
