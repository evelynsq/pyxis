{
 "cells": [
  {
   "cell_type": "markdown",
   "id": "6d6f36b7",
   "metadata": {},
   "source": [
    "# Benchmarking Pyxis\n",
    "\n",
    "The following notebook contains tests for benchmarking `pyxis` functions/commands for runtime and memory usage, both against example test files (several provided in the `example-files` directory) and also against a real [ChIP peaks ISL1 transcription factor dataset](https://www.ncbi.nlm.nih.gov/geo/query/acc.cgi?acc=GSM5838045) (provided in the `analysis` directory). \n",
    "\n",
    "There are also comparisons drawn to [HOMER](http://homer.ucsd.edu/homer/ngs/peakMotifs.html)'s analogous command, `findMotifsGenome.pl`."
   ]
  },
  {
   "cell_type": "code",
   "execution_count": 25,
   "id": "2f031ded",
   "metadata": {},
   "outputs": [
    {
     "name": "stdout",
     "output_type": "stream",
     "text": [
      "/home/esquan/final_project\n"
     ]
    }
   ],
   "source": [
    "# should cd into outer pyxis directory\n",
    "%cd .."
   ]
  },
  {
   "cell_type": "code",
   "execution_count": 27,
   "id": "85f3b56f",
   "metadata": {},
   "outputs": [],
   "source": [
    "import numpy as np\n",
    "import os\n",
    "import pandas as pd\n",
    "import pyfaidx\n",
    "import pyxis.myutils\n",
    "import random\n",
    "import scipy.stats\n",
    "import sys"
   ]
  },
  {
   "cell_type": "code",
   "execution_count": 28,
   "id": "44dd85e1",
   "metadata": {},
   "outputs": [],
   "source": [
    "!python setup.py install --user > path.txt 2> /dev/null\n",
    "# determining where pyxis script installed to, and saving that path to export later\n",
    "with open('path.txt', 'r') as file:\n",
    "    for line in file:\n",
    "        if 'Installing pyxis script to' in line:\n",
    "            path = line.split()[-1]\n",
    "            f = open(\"scriptpath.txt\", \"w\")\n",
    "            f.write(path)\n",
    "            f.close()\n",
    "            break"
   ]
  },
  {
   "cell_type": "markdown",
   "id": "b842b720",
   "metadata": {},
   "source": [
    "## I. Runtime"
   ]
  },
  {
   "cell_type": "markdown",
   "id": "809a4d8f",
   "metadata": {},
   "source": [
    "### Loading in the Example Data"
   ]
  },
  {
   "cell_type": "code",
   "execution_count": 29,
   "id": "1dff0043",
   "metadata": {},
   "outputs": [],
   "source": [
    "# example-files directory test files\n",
    "cwd = os.getcwd()\n",
    "f_peaks_dir = cwd + '/example-files/peaks.bed'      # foreground peaks file\n",
    "b_peaks_dir = cwd + '/example-files/background.bed' # background peaks file\n",
    "ref_dir = cwd + '/example-files/ref.fa'             # reference genome file\n",
    "pwms_dir = cwd + '/example-files/test.pwms'         # file of known PWMs\n",
    "\n",
    "# index reference genome file\n",
    "test_ref = pyfaidx.Fasta(ref_dir)"
   ]
  },
  {
   "cell_type": "markdown",
   "id": "c770ba07",
   "metadata": {},
   "source": [
    "### Testing Runtime of Various myutil.py Functions"
   ]
  },
  {
   "cell_type": "code",
   "execution_count": 5,
   "id": "d4b9e391",
   "metadata": {},
   "outputs": [
    {
     "name": "stdout",
     "output_type": "stream",
     "text": [
      "Runtime for ReadBED:\n",
      "183 µs ± 9.18 µs per loop (mean ± std. dev. of 7 runs, 10000 loops each)\n",
      "\n",
      "Runtime for ReadPWMS:\n",
      "247 µs ± 6.29 µs per loop (mean ± std. dev. of 7 runs, 1000 loops each)\n",
      "\n",
      "Runtime for WriteFastaSeq:\n",
      "8.87 µs ± 139 ns per loop (mean ± std. dev. of 7 runs, 100000 loops each)\n",
      "\n",
      "Runtime for ComputeNucFreqs:\n",
      "23.9 µs ± 709 ns per loop (mean ± std. dev. of 7 runs, 10000 loops each)\n"
     ]
    }
   ],
   "source": [
    "print(\"Runtime for ReadBED:\")\n",
    "%timeit readbed = pyxis.myutils.ReadBED(f_peaks_dir, test_ref)\n",
    "print(\"\\nRuntime for ReadPWMS:\")\n",
    "%timeit readpwms = pyxis.myutils.ReadPWMS(pwms_dir)\n",
    "print(\"\\nRuntime for WriteFastaSeq:\")\n",
    "%timeit pyxis.myutils.WriteFastaSeq(test_ref, 'chr6', 1, 100)\n",
    "print(\"\\nRuntime for ComputeNucFreqs:\")\n",
    "f_seqs = ['ACTAGCTACG', 'TAGCATGCTAGAC', 'TACTATCATGGGT', 'GTAGCTAGTACAGTACAGTAA', 'ATCAGTAC', 'TAGCTAGCTA', 'GTCAGTACGATAC']\n",
    "%timeit pyxis.myutils.ComputeNucFreqs(f_seqs)"
   ]
  },
  {
   "cell_type": "code",
   "execution_count": 6,
   "id": "dd706dc4",
   "metadata": {},
   "outputs": [
    {
     "name": "stdout",
     "output_type": "stream",
     "text": [
      "\n",
      "Runtime for RandomBkSequence:\n",
      "88.2 µs ± 1.15 µs per loop (mean ± std. dev. of 7 runs, 10000 loops each)\n",
      "\n",
      "Runtime for ScoreSeq:\n",
      "1.48 µs ± 14.5 ns per loop (mean ± std. dev. of 7 runs, 1000000 loops each)\n",
      "\n",
      "Runtime for ReverseComplement:\n",
      "6.29 µs ± 46.8 ns per loop (mean ± std. dev. of 7 runs, 100000 loops each)\n",
      "\n",
      "Runtime for FindMaxScore:\n",
      "141 µs ± 2 µs per loop (mean ± std. dev. of 7 runs, 10000 loops each)\n"
     ]
    }
   ],
   "source": [
    "print(\"\\nRuntime for RandomBkSequence:\")\n",
    "seq_lens = [10, 13, 13, 21, 8, 10, 13]\n",
    "%timeit bk_seqs = pyxis.myutils.RandomBkSequence(seq_lens, 7, test_ref)\n",
    "print(\"\\nRuntime for ScoreSeq:\")\n",
    "bach_pwm = np.array([\n",
    "    [-0.705,-0.938,-1.27,1.041],\n",
    "    [-2.694,-1.138,1.265,-2.694],\n",
    "    [-1.681,1.298,-2.819,-2.394],\n",
    "    [-1.138,-1.818,-3.126,1.245],\n",
    "    [-1.421,-1.389,1.147,-1.022],\n",
    "    [1.101,-1.818,-1.454,-0.516],\n",
    "    [-1.681,-0.108,0.978,-1.358],\n",
    "    [-2.961,-2.584,-3.126,1.343],\n",
    "    [-1.389,1.294,-2.584,-3.573],\n",
    "    [1.34,-2.819,-3.126,-2.584],\n",
    "    [-1.454,0.244,-0.163,0.495]\n",
    "])\n",
    "%timeit score = pyxis.myutils.ScoreSeq(bach_pwm, f_seqs)\n",
    "print(\"\\nRuntime for ReverseComplement:\")\n",
    "test_seq = 'GTAGCTAGCATTACATTACTGTACGTAC'\n",
    "%timeit pyxis.myutils.ReverseComplement(test_seq)\n",
    "print(\"\\nRuntime for FindMaxScore:\")\n",
    "%timeit pyxis.myutils.FindMaxScore(bach_pwm, test_seq)"
   ]
  },
  {
   "cell_type": "code",
   "execution_count": 7,
   "id": "34b62d36",
   "metadata": {},
   "outputs": [],
   "source": [
    "PWMList = [np.array([[-1.83361299, -2.15554108, -2.31903981,  0.81189105, -6.96289593,\n",
    "         -4.15554107, -1.67749378, -1.26245629, -0.14271704,  1.44649493,\n",
    "         -1.792971  , -2.71496849, -2.3779335 ,  1.16122531,  1.15084616,\n",
    "          1.62956103],\n",
    "        [-0.43933405,  1.17153032,  1.12456684, -4.37793349, -3.50346438,\n",
    "         -6.96289593, -0.71496849, -6.96289593, -0.00869969, -1.67749378,\n",
    "         -4.6409679 , -2.10491501,  1.34544303, -1.29047066, -1.40830715,\n",
    "         -2.71496849],\n",
    "        [ 0.22692855, -0.81314888, -3.962896  , -4.96289599, -4.6409679 ,\n",
    "         -5.96289597,  1.57626281, -3.3779335 , -0.67749379, -1.91850188,\n",
    "         -2.71496849,  1.58785078, -1.08025295, -2.87543316, -0.792971  ,\n",
    "         -1.71496849],\n",
    "        [ 0.85728296, -0.06807824,  0.63701684,  1.11391959,  1.94999333,\n",
    "          1.97079465, -3.3779335 ,  1.79865523,  0.56066595, -0.51995251,\n",
    "          1.81518112, -0.71496849, -0.33353938,  0.28503151, -0.27639548,\n",
    "         -1.15554108]]),\n",
    "np.array([[  0.55777767,  -0.41119543,   1.40925515,  -5.96578425,\n",
    "           1.97085365,  -4.96578427,   1.9441088 ,   1.87656606,\n",
    "          -1.41119543,   1.18903382],\n",
    "        [ -0.96578428,   0.78240857,  -4.96578427, -31.21928095,\n",
    "          -5.96578425,  -3.50635266,  -5.96578425,  -6.96578421,\n",
    "          -0.45798964,  -0.81603716],\n",
    "        [  0.31961793,   0.18396284,  -3.96578428,   1.99421765,\n",
    "          -4.96578427,  -2.64385619,  -5.96578425,  -1.83650127,\n",
    "           1.48129894,   0.03421572],\n",
    "        [ -0.38082178,  -1.35107444,   0.31961793, -31.21928095,\n",
    "          -4.96578427,   1.89530262,  -3.05889368,  -4.64385618,\n",
    "          -3.26534456,  -2.96578428]]),\n",
    " np.array([[ 1.73767068e-01,  8.67105730e-01, -1.79585928e+00,\n",
    "         -4.57989644e-01, -7.36965593e-01, -4.96578427e+00,\n",
    "          1.92599942e+00,  1.75872957e+00,  1.88283866e+00,\n",
    "         -4.96578427e+00, -3.96578428e+00, -2.57346686e+00,\n",
    "         -3.79585928e+00,  1.48954294e+00],\n",
    "        [ 2.29004027e-02, -2.96578428e+00, -3.79585928e+00,\n",
    "         -1.83650127e+00,  3.01002257e-01,  1.88908410e+00,\n",
    "         -3.50635266e+00, -4.96578427e+00, -3.12192809e+01,\n",
    "         -5.38082176e+00, -4.96578427e+00,  9.88412026e-01,\n",
    "          1.74157485e+00, -1.96578428e+00],\n",
    "        [ 5.01821266e-01,  6.70840336e-01,  1.76213617e+00,\n",
    "          3.82943870e-01,  1.53156789e-01, -4.64385618e+00,\n",
    "         -3.96578428e+00, -7.95859282e-01, -1.87832144e+00,\n",
    "          1.95307895e+00,  6.11644544e-01, -9.65784284e-01,\n",
    "         -3.96578428e+00, -9.43416471e-01],\n",
    "        [-1.18442457e+00, -1.13289427e+00, -2.01158797e+00,\n",
    "          7.55314904e-01,  7.86098352e-02, -2.15842936e+00,\n",
    "         -4.38082177e+00, -6.96578421e+00, -4.64385618e+00,\n",
    "         -3.79585928e+00,  1.24853484e+00,  4.17920008e-01,\n",
    "         -9.43416471e-01, -1.26534457e+00]])]"
   ]
  },
  {
   "cell_type": "code",
   "execution_count": 9,
   "id": "bb4ca271",
   "metadata": {},
   "outputs": [
    {
     "name": "stdout",
     "output_type": "stream",
     "text": [
      "\n",
      "Runtime for RandomSequence:\n",
      "23.1 µs ± 2.67 µs per loop (mean ± std. dev. of 7 runs, 10000 loops each)\n",
      "\n",
      "GetThreshold:\n",
      "637 µs ± 3.14 µs per loop (mean ± std. dev. of 7 runs, 1000 loops each)\n",
      "\n",
      "Runtime for ComputeEnrichment:\n",
      "2.15 ms ± 280 µs per loop (mean ± std. dev. of 7 runs, 100 loops each)\n",
      "\n",
      "Runtime for pwm_to_ppm:\n",
      "29.5 µs ± 496 ns per loop (mean ± std. dev. of 7 runs, 10000 loops each)\n"
     ]
    }
   ],
   "source": [
    "print(\"\\nRuntime for RandomSequence:\")\n",
    "test_freqs = [0.15, 0.34, 0.26, 0.25]\n",
    "%timeit pyxis.myutils.RandomSequence(50, test_freqs)\n",
    "print(\"\\nGetThreshold:\")\n",
    "numsim = 10000\n",
    "pval = 0.01\n",
    "for i in range(3):\n",
    "    null_scores = [pyxis.myutils.ScoreSeq(PWMList[i], pyxis.myutils.RandomSequence(PWMList[i].shape[1], test_freqs)) for j in range(numsim)]\n",
    "%timeit pyxis.myutils.GetThreshold(null_scores, pval)\n",
    "print(\"\\nRuntime for ComputeEnrichment:\")\n",
    "%timeit pyxis.myutils.ComputeEnrichment(50, 20, 50, 25)\n",
    "print(\"\\nRuntime for pwm_to_ppm:\")\n",
    "%timeit pyxis.myutils.pwm_to_ppm(bach_pwm, test_freqs, 1e-10)"
   ]
  },
  {
   "cell_type": "markdown",
   "id": "47ae2dbd",
   "metadata": {},
   "source": [
    "#### Summary:\n",
    "Using small toy data and example test files provided in `example-files` directory:\n",
    "\n",
    "| Function | Mean Runtime Per Loop ± Std. Dev. of 7 Runs (10000 loops each) |\n",
    "| :------- | :-----------------------------------------------------: |\n",
    "| ReadBED | 183 µs ± 9.18 µs |\n",
    "| ReadPWMS | 247 µs ± 6.29 µs |\n",
    "| WriteFastaSeq | 8.87 µs ± 139 ns |\n",
    "| ComputeNucFreqs | 23.9 µs ± 709 ns |\n",
    "| RandomBkSequence | 88.2 µs ± 1.15 µs |\n",
    "| ScoreSeq | 1.48 µs ± 14.5 ns |\n",
    "| ReverseComplement | 6.29 µs ± 46.8 ns |\n",
    "| FindMaxScore | 141 µs ± 2 µs |\n",
    "| RandomSequence | 23.1 µs ± 2.67 µs |\n",
    "| GetThreshold | 637 µs ± 3.14 µs |\n",
    "| ComputeEnrichment | 2.15 ms ± 280 µs |\n",
    "| pwm_to_ppm | 29.5 µs ± 496 ns |"
   ]
  },
  {
   "cell_type": "markdown",
   "id": "c0d6f83d",
   "metadata": {},
   "source": [
    "### Testing Pyxis Commands with Example Data"
   ]
  },
  {
   "cell_type": "code",
   "execution_count": 23,
   "id": "741cd437",
   "metadata": {},
   "outputs": [
    {
     "name": "stdout",
     "output_type": "stream",
     "text": [
      "Basic Usage Command:\n",
      "10 loops, best of 5: 1.97 sec per loop\n",
      "\n",
      "Adding a Background:\n",
      "10 loops, best of 5: 2.02 sec per loop\n",
      "\n",
      "Including a specified p-value:\n",
      "10 loops, best of 5: 2.03 sec per loop\n"
     ]
    }
   ],
   "source": [
    "%%bash\n",
    "DIR=`cat scriptpath.txt`\n",
    "export PATH=$PATH:$DIR\n",
    "\n",
    "printf 'Basic Usage Command:\\n'\n",
    "python -m timeit -n 10 -s 'import os' 'os.system(\"pyxis example-files/peaks.bed example-files/ref.fa example-files/test.pwms > /dev/null\")'\n",
    "printf '\\nAdding a Background:\\n'\n",
    "python -m timeit -n 10 -s 'import os' 'os.system(\"pyxis example-files/peaks.bed example-files/ref.fa example-files/test.pwms -b example-files/background.bed > /dev/null\")'\n",
    "printf '\\nIncluding a specified p-value:\\n'\n",
    "python -m timeit -n 10 -s 'import os' 'os.system(\"pyxis example-files/peaks.bed example-files/ref.fa example-files/test.pwms -p 0.005 > /dev/null\")'"
   ]
  },
  {
   "cell_type": "code",
   "execution_count": 33,
   "id": "09bbb376",
   "metadata": {},
   "outputs": [
    {
     "name": "stdout",
     "output_type": "stream",
     "text": [
      "Generating motif sequence logos:\n",
      "10 loops, best of 5: 2.82 sec per loop\n",
      "\n",
      "Including pseudovalue for generating sequence logos:\n",
      "10 loops, best of 5: 2.78 sec per loop\n"
     ]
    }
   ],
   "source": [
    "%%bash\n",
    "DIR=`cat scriptpath.txt`\n",
    "export PATH=$PATH:$DIR\n",
    "\n",
    "printf 'Including generating motif sequence logos:\\n'\n",
    "python -m timeit -n 10 -s 'import os' 'os.system(\"pyxis example-files/peaks.bed example-files/ref.fa example-files/test.pwms -s > /dev/null\")'\n",
    "printf '\\nIncluding pseudovalue for generating sequence logos:\\n'\n",
    "python -m timeit -n 10 -s 'import os' 'os.system(\"pyxis example-files/peaks.bed example-files/ref.fa example-files/test.pwms -s --pseudo 1e-6 > /dev/null\")'"
   ]
  },
  {
   "cell_type": "markdown",
   "id": "bfdf0e4d",
   "metadata": {},
   "source": [
    "#### Summary:\n",
    "\n",
    "| Command | Mean Runtime Per Loop (10 loops, best of 5) |\n",
    "| :------- | :-----------------------------------------------------: |\n",
    "| Basic Usage | 1.97 sec |\n",
    "| Basic Usage + Background Provided | 2.02 sec |\n",
    "| Basic Usage + P-value Provided | 2.03 sec |\n",
    "| Basic Usage + Seqlogo | 2.82 sec |\n",
    "| Basic Usage + Seqlogo + Pseudovalue | 2.78 sec |"
   ]
  },
  {
   "cell_type": "markdown",
   "id": "1ce00a67",
   "metadata": {},
   "source": [
    "### Testing Pyxis Commands with a Larger Dataset"
   ]
  },
  {
   "cell_type": "markdown",
   "id": "47f92ca4",
   "metadata": {},
   "source": [
    "This larger, real-life dataset we will test on `pyxis` is provided at GEO accession [GSM5838045](https://www.ncbi.nlm.nih.gov/geo/query/acc.cgi?acc=GSM5838045) (ISL1_WT_d6CP_Rep1) contains **peaks for the ISL1 transcription factor**. The ISL1 TFs were pulled down during ChIP through an anti-human-ISLET-1 antibody. This dataset is part of the [GSE195476 series](https://www.ncbi.nlm.nih.gov/geo/query/acc.cgi?acc=GSE195476).\n",
    "\n",
    "The genome build used for this dataset was **hg19**. Due to its high memory usage, the build itself will not be included in the `pyxis` repo. If you are interested in running the below commands with the ISL1 dataset (as well as the commands in `PyxisAnalysis.ipynb`), please install `hg19.fa.gz` [here](https://hgdownload.soe.ucsc.edu/goldenPath/hg19/bigZips/) and move it into the `benchmark` directory of `pyxis`. Be sure to also decompress the file before running `pyxis` on it– you can do this in Linux with `gzip -d`!\n",
    "\n",
    "The PWMs file serving as our motif database for this demonstration has position weight matrices selected based off Figure 3D from the source paper: [The multi-lineage transcription factor ISL1 controls cardiomyocyte cell fate through interaction with NKX2.5](https://www.ncbi.nlm.nih.gov/pmc/articles/PMC10679653/). Several other motifs picked at random from [HOCOMOCO](https://hocomoco11.autosome.org/) are also included for testing purposes."
   ]
  },
  {
   "cell_type": "code",
   "execution_count": 19,
   "id": "7bf7d611",
   "metadata": {},
   "outputs": [
    {
     "data": {
      "text/plain": [
       "'/home/esquan/final_project/pyxis'"
      ]
     },
     "execution_count": 19,
     "metadata": {},
     "output_type": "execute_result"
    }
   ],
   "source": [
    "pwd # Check that you are still in the outer pyxis directory"
   ]
  },
  {
   "cell_type": "code",
   "execution_count": 34,
   "id": "7960e491",
   "metadata": {},
   "outputs": [
    {
     "name": "stdout",
     "output_type": "stream",
     "text": [
      "motif_name\tpval\tlog_pval\tnum_peak_motif\tpct_peak_motif\tnum_bg_motif\tpct_bg_motif\tenriched_status\n",
      "ISL1_MOUSE.H11MO.0.A\t3.8681244406275597e-295\t-294.4125\t4835\t0.781856403622251\t2879\t0.4655562742561449\tSig\n",
      "NKX25_MOUSE.H11MO.0.A\t6.859704709383046e-281\t-280.16369\t4801\t0.7763583441138422\t2890\t0.46733505821474774\tSig\n",
      "LHX3_MOUSE.H11MO.0.C\t1.0008831183450168e-267\t-266.99962\t4212\t0.6811125485122898\t2286\t0.36966364812419145\tSig\n",
      "NKX22_MOUSE.H11MO.0.A\t4.799427573329636e-218\t-217.31881\t5292\t0.8557567917205692\t3761\t0.6081824062095731\tSig\n",
      "BACH2_HUMAN.H11MO.0.A\t4.856501062484705e-217\t-216.31368\t4781\t0.773124191461837\t3115\t0.503719275549806\tSig\n",
      "KAISO_HUMAN.H11MO.1.A\t1.840030567469271e-86\t-85.73517\t2888\t0.4670116429495472\t1826\t0.29527813712807244\tSig\n",
      "MLX_HUMAN.H11MO.0.D\t8.11901614846211e-82\t-81.0905\t4744\t0.7671410090556274\t5535\t0.8950517464424321\tSig\n",
      "ALX3_HUMAN.H11MO.0.D\t3.2897559701277345e-16\t-15.48284\t6100\t0.9864165588615783\t5960\t0.963777490297542\tSig\n",
      "GATA4_MOUSE.H11MO.0.A\t0.0009722257333249527\t-3.01223\t6184\t1.0\t6173\t0.9982212160413971\tNon-sig\n",
      "ELK1_HUMAN.H11MO.0.B\t0.03549233860694681\t-1.44987\t6176\t0.9987063389391979\t6164\t0.9967658473479948\tNon-sig\n"
     ]
    }
   ],
   "source": [
    "%%bash\n",
    "DIR=`cat scriptpath.txt`\n",
    "export PATH=$PATH:$DIR\n",
    "\n",
    "# Checking results from pyxis for ISL1 peaks dataset\n",
    "pyxis analysis/GSM5838045_S1_ISL1_WT_d6CP_Rep1.bed benchmark/hg19.fa benchmark/isl1.pwms > /dev/null\n",
    "cat pyxis_enrichments.tsv"
   ]
  },
  {
   "cell_type": "code",
   "execution_count": 17,
   "id": "ac1c06fa",
   "metadata": {},
   "outputs": [
    {
     "name": "stdout",
     "output_type": "stream",
     "text": [
      "Runtime for pyxis with ISL1 peaks dataset:\n",
      "1 loop, best of 5: 341 sec per loop\n"
     ]
    }
   ],
   "source": [
    "%%bash\n",
    "DIR=`cat scriptpath.txt`\n",
    "export PATH=$PATH:$DIR\n",
    "\n",
    "# Due to the ISL1 dataset's large size, the following command may take a while since it runs 5 loops of the command \n",
    "# with a best of 5 to calculate average runtime. Feel free to revisit this notebook in a few minutes.\n",
    "printf 'Runtime for pyxis with ISL1 peaks dataset:\\n'\n",
    "python -m timeit -s 'import os' 'os.system(\"pyxis analysis/GSM5838045_S1_ISL1_WT_d6CP_Rep1.bed benchmark/hg19.fa benchmark/isl1.pwms\")'"
   ]
  },
  {
   "cell_type": "markdown",
   "id": "9825523e",
   "metadata": {},
   "source": [
    "### Comparing Runtime with HOMER's findMotifsGenome.pl"
   ]
  },
  {
   "cell_type": "code",
   "execution_count": 22,
   "id": "b060c27d",
   "metadata": {
    "scrolled": false
   },
   "outputs": [
    {
     "name": "stdout",
     "output_type": "stream",
     "text": [
      "1 loop, best of 5: 186 sec per loop\n"
     ]
    },
    {
     "name": "stderr",
     "output_type": "stream",
     "text": [
     ]
    }
   ],
   "source": [
    "%%bash\n",
    "# HOMER output for the test files in pyxis\n",
    "python -m timeit -s 'import os' 'os.system(\"findMotifsGenome.pl example-files/peaks.bed example-files/ref.fa homer-results/example-data -size given -len 11 > /dev/null\")'"
   ]
  },
  {
   "cell_type": "code",
   "execution_count": 33,
   "id": "f79be3aa",
   "metadata": {},
   "outputs": [
    {
     "name": "stdout",
     "output_type": "stream",
     "text": [
      "1 loop, best of 1: 3.12e+03 sec per loop\n"
     ]
    },
    {
     "name": "stderr",
     "output_type": "stream",
     "text": [
     ]
    }
   ],
   "source": [
    "%%bash\n",
    "# For the ISL1 TF dataset. Note: This command will around an hour to run.\n",
    "python -m timeit -r 1 -s 'import os' 'os.system(\"findMotifsGenome.pl analysis/GSM5838045_S1_ISL1_WT_d6CP_Rep1.bed benchmark/hg19.fa homer-results/isl1 > /dev/null\")'"
   ]
  },
  {
   "cell_type": "markdown",
   "id": "9694d4dc",
   "metadata": {},
   "source": [
    "#### Summary\n",
    "\n",
    "Runtime per loop of basic usage commands for `pyxis` vs. `HOMER` is as follows:\n",
    "\n",
    "| Tool | Dataset | Runtime Per Loop (1 loop, best of 5) |\n",
    "| :--- | :------ | :----------------------------------: |\n",
    "| Pyxis | Example Data | 1.81 sec |\n",
    "| Pyxis | ISL1 | 341 sec |\n",
    "| HOMER | Example Data | 186 sec |\n",
    "| HOMER | ISL1 | 3.12e+03 sec |"
   ]
  },
  {
   "cell_type": "code",
   "execution_count": 31,
   "id": "6f1e1d5b",
   "metadata": {},
   "outputs": [
    {
     "name": "stdout",
     "output_type": "stream",
     "text": [
      "Basic Usage Command:\n",
      "1 loop, best of 5: 1.81 sec per loop\n"
     ]
    }
   ],
   "source": [
    "%%bash\n",
    "DIR=`cat scriptpath.txt`\n",
    "export PATH=$PATH:$DIR\n",
    "\n",
    "printf 'Basic Usage Command:\\n'\n",
    "python -m timeit -s 'import os' 'os.system(\"pyxis example-files/peaks.bed example-files/ref.fa example-files/test.pwms > /dev/null\")'"
   ]
  },
  {
   "cell_type": "markdown",
   "id": "5a911b2a",
   "metadata": {},
   "source": [
    "## II. Memory Consumption"
   ]
  },
  {
   "cell_type": "code",
   "execution_count": 32,
   "id": "9c00a752",
   "metadata": {},
   "outputs": [
    {
     "name": "stdout",
     "output_type": "stream",
     "text": [
      "fatal: destination path 'memusg' already exists and is not an empty directory.\r\n"
     ]
    }
   ],
   "source": [
    "!git clone https://github.com/jhclark/memusg.git"
   ]
  },
  {
   "cell_type": "code",
   "execution_count": 33,
   "id": "41b463f6",
   "metadata": {},
   "outputs": [
    {
     "data": {
      "text/plain": [
       "'/home/esquan/final_project/pyxis'"
      ]
     },
     "execution_count": 33,
     "metadata": {},
     "output_type": "execute_result"
    }
   ],
   "source": [
    "pwd # check that you are still in the pyxis directory"
   ]
  },
  {
   "cell_type": "markdown",
   "id": "97a4754f",
   "metadata": {},
   "source": [
    "IMPORTANT: Only run the below cell __once__ or you will encounter an error in the following cells."
   ]
  },
  {
   "cell_type": "code",
   "execution_count": 34,
   "id": "3417f26f",
   "metadata": {},
   "outputs": [
    {
     "name": "stderr",
     "output_type": "stream",
     "text": [
      "mv: cannot stat 'memusg/': Not a directory\n",
      "mv: cannot stat 'memusg': No such file or directory\n"
     ]
    }
   ],
   "source": [
    "%%bash\n",
    "# Moving the memusg script to the pyxis directory for execution\n",
    "mv memusg/ memusage/\n",
    "cd memusage\n",
    "mv memusg ..\n",
    "cd ..\n",
    "rm -rf memusage\n",
    "export PATH=."
   ]
  },
  {
   "cell_type": "markdown",
   "id": "59316312",
   "metadata": {},
   "source": [
    "### Testing with Example Files Data"
   ]
  },
  {
   "cell_type": "code",
   "execution_count": 27,
   "id": "db0d33a8",
   "metadata": {
    "scrolled": true
   },
   "outputs": [
    {
     "name": "stdout",
     "output_type": "stream",
     "text": [
      "Background not specified. Generating background sequences from reference genome...\n",
      "Calculating thresholds for each PWM...\n",
      "[1/5] .... \n",
      "[2/5] .... \n",
      "[3/5] .... \n",
      "[4/5] .... \n",
      "[5/5] .... Done.\n",
      "\n",
      "Performing motif enrichment...\n",
      "[1/5] .... \n",
      "[2/5] .... \n",
      "[3/5] .... \n",
      "[4/5] .... \n",
      "[5/5] .... Done.\n",
      "\n",
      "Creating output file 'enrichment_results.tsv'...\n",
      "....\n",
      "....\n",
      "....\n",
      "....\n",
      ".... Done.\n",
      "\n",
      "\n",
      "Pyxis has run successfully, please check 'pyxis_enrichments.tsv' for motif enrichment info!\n",
      "If '-s' or '--seqlogo' was specified, the motif sequence logos should be in your directory.\n",
      "\n"
     ]
    },
    {
     "name": "stderr",
     "output_type": "stream",
     "text": [
      "memusg: vmpeak: 17959672 kb\n",
      "memusg: vmpeak: 17959676 kb\n",
      "memusg: vmpeak: 17959680 kb\n"
     ]
    }
   ],
   "source": [
    "%%bash\n",
    "DIR=`cat scriptpath.txt`\n",
    "export PATH=$PATH:$DIR\n",
    "\n",
    "# Testing pyxis memory usage\n",
    "# 1. Basic usage command\n",
    "./memusg pyxis example-files/peaks.bed example-files/ref.fa example-files/test.pwms > /dev/null\n",
    "\n",
    "# 2. Including a background peaks file\n",
    "./memusg pyxis example-files/peaks.bed example-files/ref.fa example-files/test.pwms -b example-files/background.bed > /dev/null\n",
    "\n",
    "# 3. Including background + generation of sequence logos\n",
    "./memusg pyxis example-files/peaks.bed example-files/ref.fa example-files/test.pwms -b example-files/background.bed -s > /dev/null"
   ]
  },
  {
   "cell_type": "code",
   "execution_count": 35,
   "id": "2f2be2ce",
   "metadata": {},
   "outputs": [
    {
     "name": "stderr",
     "output_type": "stream",
     "text": [
      "memusg: vmpeak: 167048 kb\n"
     ]
    }
   ],
   "source": [
    "%%bash\n",
    "# Testing findMotifsGenome.pl memory usage\n",
    "./memusg findMotifsGenome.pl example-files/peaks.bed example-files/ref.fa homer-results/example-data > /dev/null"
   ]
  },
  {
   "cell_type": "markdown",
   "id": "8bba3f54",
   "metadata": {},
   "source": [
    "### Testing Memory Usage with ISL1 Dataset"
   ]
  },
  {
   "cell_type": "code",
   "execution_count": 39,
   "id": "39cd3b09",
   "metadata": {},
   "outputs": [
    {
     "name": "stderr",
     "output_type": "stream",
     "text": [
      "memusg: vmpeak: 17966576 kb\n",
      "memusg: vmpeak: 1146152 kb\n"
     ]
    }
   ],
   "source": [
    "%%bash\n",
    "DIR=`cat scriptpath.txt`\n",
    "export PATH=$PATH:$DIR\n",
    "\n",
    "# pyxis\n",
    "./memusg pyxis analysis/GSM5838045_S1_ISL1_WT_d6CP_Rep1.bed benchmark/hg19.fa benchmark/isl1.pwms > /dev/null\n",
    "# HOMER\n",
    "currdir=$(pwd)\n",
    "./memusg findMotifsGenome.pl $currdir'/analysis/GSM5838045_S1_ISL1_WT_d6CP_Rep1.bed' $currdir'/benchmark/hg19.fa' homer-results/isl1 > /dev/null"
   ]
  },
  {
   "cell_type": "markdown",
   "id": "0f180dae",
   "metadata": {},
   "source": [
    "#### Summary\n",
    "\n",
    "Memory Usage between `pyxis` vs. `HOMER` is as follows:\n",
    "\n",
    "| Tool | Dataset | Command | Vmpeak |\n",
    "| :--- | :------ | :------ | :----: |\n",
    "| Pyxis | Test Data | Basic Usage | 17959672 kb |\n",
    "| Pyxis | Test Data | Basic Usage + Background | 17959676 kb |\n",
    "| Pyxis | Test Data | Basic Usage + Background + Seqlogo | 17959680 kb |\n",
    "| Pyxis | ISL1 | Basic Usage | 17966576 kb |\n",
    "| HOMER | Test Data | Basic Usage | 167048 kb |\n",
    "| HOMER | ISL1 | Basic Usage | 1146152 kb |"
   ]
  }
 ],
 "metadata": {
  "kernelspec": {
   "display_name": "Python 3 (ipykernel)",
   "language": "python",
   "name": "python3"
  },
  "language_info": {
   "codemirror_mode": {
    "name": "ipython",
    "version": 3
   },
   "file_extension": ".py",
   "mimetype": "text/x-python",
   "name": "python",
   "nbconvert_exporter": "python",
   "pygments_lexer": "ipython3",
   "version": "3.9.5"
  }
 },
 "nbformat": 4,
 "nbformat_minor": 5
}
